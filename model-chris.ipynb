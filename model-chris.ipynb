{
 "cells": [
  {
   "cell_type": "code",
   "execution_count": 54,
   "metadata": {},
   "outputs": [],
   "source": [
    "import numpy as np\n",
    "import pandas as pd\n",
    "import matplotlib.pyplot as plt\n",
    "import seaborn as sns\n",
    "\n",
    "from math import sqrt\n",
    "from statsmodels.formula.api import ols\n",
    "from sklearn.model_selection import train_test_split\n",
    "from sklearn.metrics import mean_squared_error, explained_variance_score\n",
    "from sklearn.linear_model import LinearRegression, LassoLars, TweedieRegressor\n",
    "from sklearn.preprocessing import PolynomialFeatures\n",
    "\n",
    "from sklearn.feature_selection import RFE\n",
    "from wrangle import wrangle_data\n",
    "from prepare import prepare_zillow_mvp\n",
    "import warnings\n",
    "warnings.filterwarnings(\"ignore\")"
   ]
  },
  {
   "cell_type": "code",
   "execution_count": 55,
   "metadata": {},
   "outputs": [],
   "source": [
    "df = prepare_zillow_mvp()"
   ]
  },
  {
   "cell_type": "code",
   "execution_count": 56,
   "metadata": {},
   "outputs": [],
   "source": [
    "model_1_data = df.drop(columns='more_than_two_bath')\n",
    "model_2_data = df[['more_than_two_bath','taxvaluedollarcnt']]\n",
    "model_3_data = df[['calculatedfinishedsquarefeet', 'more_than_two_bath', 'taxvaluedollarcnt']]"
   ]
  },
  {
   "cell_type": "markdown",
   "metadata": {},
   "source": [
    "#  Model 1 Data\n",
    "---\n",
    "Features: bathroomcnt_scaled, bedroomcnt_scaled, calculatedfinishedsquarefeet_scaled "
   ]
  },
  {
   "cell_type": "code",
   "execution_count": 57,
   "metadata": {},
   "outputs": [],
   "source": [
    "X_train, y_train, X_validate, y_validate, X_test, y_test = wrangle_data(model_1_data, 'taxvaluedollarcnt', modeling=True)"
   ]
  },
  {
   "cell_type": "code",
   "execution_count": 58,
   "metadata": {},
   "outputs": [
    {
     "data": {
      "text/html": [
       "<div>\n",
       "<style scoped>\n",
       "    .dataframe tbody tr th:only-of-type {\n",
       "        vertical-align: middle;\n",
       "    }\n",
       "\n",
       "    .dataframe tbody tr th {\n",
       "        vertical-align: top;\n",
       "    }\n",
       "\n",
       "    .dataframe thead th {\n",
       "        text-align: right;\n",
       "    }\n",
       "</style>\n",
       "<table border=\"1\" class=\"dataframe\">\n",
       "  <thead>\n",
       "    <tr style=\"text-align: right;\">\n",
       "      <th></th>\n",
       "      <th>bathroomcnt_scaled</th>\n",
       "      <th>bedroomcnt_scaled</th>\n",
       "      <th>calculatedfinishedsquarefeet_scaled</th>\n",
       "    </tr>\n",
       "  </thead>\n",
       "  <tbody>\n",
       "    <tr>\n",
       "      <th>11869</th>\n",
       "      <td>0.1</td>\n",
       "      <td>0.250000</td>\n",
       "      <td>0.062547</td>\n",
       "    </tr>\n",
       "    <tr>\n",
       "      <th>2322</th>\n",
       "      <td>0.1</td>\n",
       "      <td>0.333333</td>\n",
       "      <td>0.085209</td>\n",
       "    </tr>\n",
       "    <tr>\n",
       "      <th>1154</th>\n",
       "      <td>0.1</td>\n",
       "      <td>0.250000</td>\n",
       "      <td>0.050612</td>\n",
       "    </tr>\n",
       "    <tr>\n",
       "      <th>9048</th>\n",
       "      <td>0.3</td>\n",
       "      <td>0.416667</td>\n",
       "      <td>0.244750</td>\n",
       "    </tr>\n",
       "    <tr>\n",
       "      <th>11513</th>\n",
       "      <td>0.1</td>\n",
       "      <td>0.250000</td>\n",
       "      <td>0.082490</td>\n",
       "    </tr>\n",
       "    <tr>\n",
       "      <th>...</th>\n",
       "      <td>...</td>\n",
       "      <td>...</td>\n",
       "      <td>...</td>\n",
       "    </tr>\n",
       "    <tr>\n",
       "      <th>14845</th>\n",
       "      <td>0.1</td>\n",
       "      <td>0.250000</td>\n",
       "      <td>0.094954</td>\n",
       "    </tr>\n",
       "    <tr>\n",
       "      <th>15349</th>\n",
       "      <td>0.1</td>\n",
       "      <td>0.250000</td>\n",
       "      <td>0.081885</td>\n",
       "    </tr>\n",
       "    <tr>\n",
       "      <th>18143</th>\n",
       "      <td>0.1</td>\n",
       "      <td>0.333333</td>\n",
       "      <td>0.119882</td>\n",
       "    </tr>\n",
       "    <tr>\n",
       "      <th>21369</th>\n",
       "      <td>0.1</td>\n",
       "      <td>0.250000</td>\n",
       "      <td>0.067004</td>\n",
       "    </tr>\n",
       "    <tr>\n",
       "      <th>1805</th>\n",
       "      <td>0.1</td>\n",
       "      <td>0.250000</td>\n",
       "      <td>0.094501</td>\n",
       "    </tr>\n",
       "  </tbody>\n",
       "</table>\n",
       "<p>9596 rows × 3 columns</p>\n",
       "</div>"
      ],
      "text/plain": [
       "       bathroomcnt_scaled  bedroomcnt_scaled  \\\n",
       "11869                 0.1           0.250000   \n",
       "2322                  0.1           0.333333   \n",
       "1154                  0.1           0.250000   \n",
       "9048                  0.3           0.416667   \n",
       "11513                 0.1           0.250000   \n",
       "...                   ...                ...   \n",
       "14845                 0.1           0.250000   \n",
       "15349                 0.1           0.250000   \n",
       "18143                 0.1           0.333333   \n",
       "21369                 0.1           0.250000   \n",
       "1805                  0.1           0.250000   \n",
       "\n",
       "       calculatedfinishedsquarefeet_scaled  \n",
       "11869                             0.062547  \n",
       "2322                              0.085209  \n",
       "1154                              0.050612  \n",
       "9048                              0.244750  \n",
       "11513                             0.082490  \n",
       "...                                    ...  \n",
       "14845                             0.094954  \n",
       "15349                             0.081885  \n",
       "18143                             0.119882  \n",
       "21369                             0.067004  \n",
       "1805                              0.094501  \n",
       "\n",
       "[9596 rows x 3 columns]"
      ]
     },
     "execution_count": 58,
     "metadata": {},
     "output_type": "execute_result"
    }
   ],
   "source": [
    "X_train"
   ]
  },
  {
   "cell_type": "code",
   "execution_count": 59,
   "metadata": {},
   "outputs": [
    {
     "name": "stdout",
     "output_type": "stream",
     "text": [
      "Baseline Model\n",
      "------------------------\n",
      "Basline Model RMSE: 696954.15\n",
      "Basline R^2: 0.00%\n"
     ]
    }
   ],
   "source": [
    "df_model_evals = pd.DataFrame()\n",
    "\n",
    "df_model_evals['y'] = y_train\n",
    "df_model_evals['baseline_yhat'] = y_train.mean()\n",
    "\n",
    "rmse_poly = sqrt(mean_squared_error(df_model_evals.y, df_model_evals.baseline_yhat))\n",
    "rsquared_poly = explained_variance_score(y_train, df_model_evals.baseline_yhat)\n",
    "\n",
    "print(\"Baseline Model\")\n",
    "print('-' * 24)\n",
    "print(f\"Basline Model RMSE: {rmse_poly:.2f}\")\n",
    "print(f\"Basline R^2: {rsquared_poly:.2%}\")"
   ]
  },
  {
   "cell_type": "code",
   "execution_count": 60,
   "metadata": {},
   "outputs": [
    {
     "data": {
      "text/html": [
       "<div>\n",
       "<style scoped>\n",
       "    .dataframe tbody tr th:only-of-type {\n",
       "        vertical-align: middle;\n",
       "    }\n",
       "\n",
       "    .dataframe tbody tr th {\n",
       "        vertical-align: top;\n",
       "    }\n",
       "\n",
       "    .dataframe thead th {\n",
       "        text-align: right;\n",
       "    }\n",
       "</style>\n",
       "<table border=\"1\" class=\"dataframe\">\n",
       "  <thead>\n",
       "    <tr style=\"text-align: right;\">\n",
       "      <th></th>\n",
       "      <th>y</th>\n",
       "      <th>baseline_yhat</th>\n",
       "    </tr>\n",
       "  </thead>\n",
       "  <tbody>\n",
       "    <tr>\n",
       "      <th>11869</th>\n",
       "      <td>440000.0</td>\n",
       "      <td>533975.535119</td>\n",
       "    </tr>\n",
       "    <tr>\n",
       "      <th>2322</th>\n",
       "      <td>515351.0</td>\n",
       "      <td>533975.535119</td>\n",
       "    </tr>\n",
       "    <tr>\n",
       "      <th>1154</th>\n",
       "      <td>186555.0</td>\n",
       "      <td>533975.535119</td>\n",
       "    </tr>\n",
       "    <tr>\n",
       "      <th>9048</th>\n",
       "      <td>344419.0</td>\n",
       "      <td>533975.535119</td>\n",
       "    </tr>\n",
       "    <tr>\n",
       "      <th>11513</th>\n",
       "      <td>285000.0</td>\n",
       "      <td>533975.535119</td>\n",
       "    </tr>\n",
       "  </tbody>\n",
       "</table>\n",
       "</div>"
      ],
      "text/plain": [
       "              y  baseline_yhat\n",
       "11869  440000.0  533975.535119\n",
       "2322   515351.0  533975.535119\n",
       "1154   186555.0  533975.535119\n",
       "9048   344419.0  533975.535119\n",
       "11513  285000.0  533975.535119"
      ]
     },
     "execution_count": 60,
     "metadata": {},
     "output_type": "execute_result"
    }
   ],
   "source": [
    "df_model_evals.head()"
   ]
  },
  {
   "cell_type": "code",
   "execution_count": 61,
   "metadata": {},
   "outputs": [
    {
     "name": "stdout",
     "output_type": "stream",
     "text": [
      "Train Set\n",
      "Polynomial : degree=3\n",
      "------------------------\n",
      "Polynomial Model RMSE: 496475.92\n",
      "Polynomial R^2: 49.26%\n"
     ]
    }
   ],
   "source": [
    "# Create a polynomial linear regression\n",
    "poly = PolynomialFeatures(3)\n",
    "\n",
    "X_train_poly = poly.fit_transform(X_train)\n",
    "X_validate_poly = poly.transform(X_validate)\n",
    "X_test_poly = poly.transform(X_test)\n",
    "\n",
    "lm_poly = LinearRegression()\n",
    "lm_poly.fit(X_train_poly, y_train)\n",
    "\n",
    "yhat_poly_train = lm_poly.predict(X_train_poly)\n",
    "poly_train_residuals = yhat_poly_train - y_train\n",
    "\n",
    "df_model_evals['poly_1_yhat'] = lm_poly.predict(X_train_poly)\n",
    "\n",
    "rmse_poly = sqrt(mean_squared_error(y_train, yhat_poly_train))\n",
    "rsquared_poly = explained_variance_score(y_train, yhat_poly_train)\n",
    "\n",
    "print(\"Train Set\\nPolynomial : degree=3\")\n",
    "print('-' * 24)\n",
    "print(f\"Polynomial Model RMSE: {rmse_poly:.2f}\")\n",
    "print(f\"Polynomial R^2: {rsquared_poly:.2%}\")"
   ]
  },
  {
   "cell_type": "code",
   "execution_count": 62,
   "metadata": {},
   "outputs": [
    {
     "data": {
      "text/html": [
       "<div>\n",
       "<style scoped>\n",
       "    .dataframe tbody tr th:only-of-type {\n",
       "        vertical-align: middle;\n",
       "    }\n",
       "\n",
       "    .dataframe tbody tr th {\n",
       "        vertical-align: top;\n",
       "    }\n",
       "\n",
       "    .dataframe thead th {\n",
       "        text-align: right;\n",
       "    }\n",
       "</style>\n",
       "<table border=\"1\" class=\"dataframe\">\n",
       "  <thead>\n",
       "    <tr style=\"text-align: right;\">\n",
       "      <th></th>\n",
       "      <th>y</th>\n",
       "      <th>baseline_yhat</th>\n",
       "      <th>poly_1_yhat</th>\n",
       "    </tr>\n",
       "  </thead>\n",
       "  <tbody>\n",
       "    <tr>\n",
       "      <th>11869</th>\n",
       "      <td>440000.0</td>\n",
       "      <td>533975.535119</td>\n",
       "      <td>2.464330e+05</td>\n",
       "    </tr>\n",
       "    <tr>\n",
       "      <th>2322</th>\n",
       "      <td>515351.0</td>\n",
       "      <td>533975.535119</td>\n",
       "      <td>3.251491e+05</td>\n",
       "    </tr>\n",
       "    <tr>\n",
       "      <th>1154</th>\n",
       "      <td>186555.0</td>\n",
       "      <td>533975.535119</td>\n",
       "      <td>2.103057e+05</td>\n",
       "    </tr>\n",
       "    <tr>\n",
       "      <th>9048</th>\n",
       "      <td>344419.0</td>\n",
       "      <td>533975.535119</td>\n",
       "      <td>1.011003e+06</td>\n",
       "    </tr>\n",
       "    <tr>\n",
       "      <th>11513</th>\n",
       "      <td>285000.0</td>\n",
       "      <td>533975.535119</td>\n",
       "      <td>3.194263e+05</td>\n",
       "    </tr>\n",
       "  </tbody>\n",
       "</table>\n",
       "</div>"
      ],
      "text/plain": [
       "              y  baseline_yhat   poly_1_yhat\n",
       "11869  440000.0  533975.535119  2.464330e+05\n",
       "2322   515351.0  533975.535119  3.251491e+05\n",
       "1154   186555.0  533975.535119  2.103057e+05\n",
       "9048   344419.0  533975.535119  1.011003e+06\n",
       "11513  285000.0  533975.535119  3.194263e+05"
      ]
     },
     "execution_count": 62,
     "metadata": {},
     "output_type": "execute_result"
    }
   ],
   "source": [
    "df_model_evals.head()"
   ]
  },
  {
   "cell_type": "code",
   "execution_count": 63,
   "metadata": {},
   "outputs": [
    {
     "data": {
      "text/plain": [
       "LinearRegression()"
      ]
     },
     "execution_count": 63,
     "metadata": {},
     "output_type": "execute_result"
    }
   ],
   "source": [
    "lm = LinearRegression()\n",
    "lm.fit(X_train, y_train)"
   ]
  },
  {
   "cell_type": "code",
   "execution_count": 64,
   "metadata": {},
   "outputs": [],
   "source": [
    "yhat_linear_regression = lm.predict(X_train)"
   ]
  },
  {
   "cell_type": "code",
   "execution_count": 65,
   "metadata": {},
   "outputs": [
    {
     "name": "stdout",
     "output_type": "stream",
     "text": [
      "Train Set\n",
      "Linear Regression\n",
      "------------------------\n",
      "Linear Regression Model RMSE: 544038.04\n",
      "Linear Regression R^2: 39.07%\n"
     ]
    }
   ],
   "source": [
    "residuals = yhat_linear_regression - y_train\n",
    "\n",
    "rmse_poly = sqrt(mean_squared_error(y_train, yhat_linear_regression))\n",
    "rsquared_poly = explained_variance_score(y_train, yhat_linear_regression)\n",
    "\n",
    "print(\"Train Set\\nLinear Regression\")\n",
    "print('-' * 24)\n",
    "print(f\"Linear Regression Model RMSE: {rmse_poly:.2f}\")\n",
    "print(f\"Linear Regression R^2: {rsquared_poly:.2%}\")"
   ]
  },
  {
   "cell_type": "markdown",
   "metadata": {},
   "source": [
    "#  Model 2 Data\n",
    "---\n",
    "Features:"
   ]
  },
  {
   "cell_type": "code",
   "execution_count": 66,
   "metadata": {},
   "outputs": [],
   "source": [
    "X_train, y_train, X_validate, y_validate, X_test, y_test = wrangle_data(model_2_data, 'taxvaluedollarcnt', modeling=True)"
   ]
  },
  {
   "cell_type": "code",
   "execution_count": 67,
   "metadata": {},
   "outputs": [],
   "source": [
    "# Create a polynomial linear regression\n",
    "poly = PolynomialFeatures(7)\n",
    "\n",
    "X_train_poly = poly.fit_transform(X_train)\n",
    "X_validate_poly = poly.transform(X_validate)\n",
    "X_test_poly = poly.transform(X_test)"
   ]
  },
  {
   "cell_type": "code",
   "execution_count": 68,
   "metadata": {},
   "outputs": [
    {
     "name": "stdout",
     "output_type": "stream",
     "text": [
      "Train Set\n",
      "Polynomial : degree=2\n",
      "------------------------\n",
      "Polynomial Model RMSE: 657864.76\n",
      "Polynomial R^2: 10.90%\n"
     ]
    }
   ],
   "source": [
    "lm_poly = LinearRegression()\n",
    "lm_poly.fit(X_train_poly, y_train)\n",
    "\n",
    "yhat_poly_train = lm_poly.predict(X_train_poly)\n",
    "poly_train_residuals = yhat_poly_train - y_train\n",
    "\n",
    "rmse_poly = sqrt(mean_squared_error(y_train, yhat_poly_train))\n",
    "rsquared_poly = explained_variance_score(y_train, yhat_poly_train)\n",
    "\n",
    "print(\"Train Set\\nPolynomial : degree=2\")\n",
    "print('-' * 24)\n",
    "print(f\"Polynomial Model RMSE: {rmse_poly:.2f}\")\n",
    "print(f\"Polynomial R^2: {rsquared_poly:.2%}\")"
   ]
  },
  {
   "cell_type": "code",
   "execution_count": 40,
   "metadata": {},
   "outputs": [
    {
     "data": {
      "image/png": "[encoded data removed]",
      "text/plain": [
       "<Figure size 432x288 with 1 Axes>"
      ]
     },
     "metadata": {
      "needs_background": "light"
     },
     "output_type": "display_data"
    }
   ],
   "source": [
    "sns.regplot(y_train, yhat_poly_train);"
   ]
  },
  {
   "cell_type": "code",
   "execution_count": 50,
   "metadata": {},
   "outputs": [
    {
     "name": "stdout",
     "output_type": "stream",
     "text": [
      "Train Set\n",
      "Linear Regression\n",
      "------------------------\n",
      "Linear Regression Model RMSE: 549922.64\n",
      "Linear Regression R^2: 37.74%\n"
     ]
    }
   ],
   "source": [
    "lm = LinearRegression()\n",
    "lm.fit(X_train, y_train)\n",
    "\n",
    "yhat_linear_regression = lm.predict(X_train)\n",
    "\n",
    "residuals = yhat_linear_regression - y_train\n",
    "\n",
    "rmse_poly = sqrt(mean_squared_error(y_train, yhat_linear_regression))\n",
    "rsquared_poly = explained_variance_score(y_train, yhat_linear_regression)\n",
    "\n",
    "print(\"Train Set\\nLinear Regression\")\n",
    "print('-' * 24)\n",
    "print(f\"Linear Regression Model RMSE: {rmse_poly:.2f}\")\n",
    "print(f\"Linear Regression R^2: {rsquared_poly:.2%}\")"
   ]
  },
  {
   "cell_type": "code",
   "execution_count": 51,
   "metadata": {},
   "outputs": [],
   "source": [
    "X_train, y_train, X_validate, y_validate, X_test, y_test = wrangle_data(model_3_data, 'taxvaluedollarcnt', modeling=True)"
   ]
  },
  {
   "cell_type": "code",
   "execution_count": 52,
   "metadata": {},
   "outputs": [
    {
     "data": {
      "text/html": [
       "<div>\n",
       "<style scoped>\n",
       "    .dataframe tbody tr th:only-of-type {\n",
       "        vertical-align: middle;\n",
       "    }\n",
       "\n",
       "    .dataframe tbody tr th {\n",
       "        vertical-align: top;\n",
       "    }\n",
       "\n",
       "    .dataframe thead th {\n",
       "        text-align: right;\n",
       "    }\n",
       "</style>\n",
       "<table border=\"1\" class=\"dataframe\">\n",
       "  <thead>\n",
       "    <tr style=\"text-align: right;\">\n",
       "      <th></th>\n",
       "      <th>calculatedfinishedsquarefeet_scaled</th>\n",
       "      <th>more_than_two_bath_scaled</th>\n",
       "    </tr>\n",
       "  </thead>\n",
       "  <tbody>\n",
       "    <tr>\n",
       "      <th>11869</th>\n",
       "      <td>0.062547</td>\n",
       "      <td>0.0</td>\n",
       "    </tr>\n",
       "    <tr>\n",
       "      <th>2322</th>\n",
       "      <td>0.085209</td>\n",
       "      <td>0.0</td>\n",
       "    </tr>\n",
       "    <tr>\n",
       "      <th>1154</th>\n",
       "      <td>0.050612</td>\n",
       "      <td>0.0</td>\n",
       "    </tr>\n",
       "    <tr>\n",
       "      <th>9048</th>\n",
       "      <td>0.244750</td>\n",
       "      <td>1.0</td>\n",
       "    </tr>\n",
       "    <tr>\n",
       "      <th>11513</th>\n",
       "      <td>0.082490</td>\n",
       "      <td>0.0</td>\n",
       "    </tr>\n",
       "  </tbody>\n",
       "</table>\n",
       "</div>"
      ],
      "text/plain": [
       "       calculatedfinishedsquarefeet_scaled  more_than_two_bath_scaled\n",
       "11869                             0.062547                        0.0\n",
       "2322                              0.085209                        0.0\n",
       "1154                              0.050612                        0.0\n",
       "9048                              0.244750                        1.0\n",
       "11513                             0.082490                        0.0"
      ]
     },
     "execution_count": 52,
     "metadata": {},
     "output_type": "execute_result"
    }
   ],
   "source": [
    "X_train.head()"
   ]
  },
  {
   "cell_type": "code",
   "execution_count": 69,
   "metadata": {},
   "outputs": [
    {
     "name": "stdout",
     "output_type": "stream",
     "text": [
      "Train Set\n",
      "Polynomial : degree=2\n",
      "------------------------\n",
      "Polynomial Model RMSE: 657864.76\n",
      "Polynomial R^2: 10.90%\n"
     ]
    }
   ],
   "source": [
    "# Create a polynomial linear regression\n",
    "poly = PolynomialFeatures(2)\n",
    "X_train_poly = poly.fit_transform(X_train)\n",
    "X_validate_poly = poly.transform(X_validate)\n",
    "X_test_poly = poly.transform(X_test)\n",
    "\n",
    "lm_poly = LinearRegression()\n",
    "lm_poly.fit(X_train_poly, y_train)\n",
    "\n",
    "yhat_poly_train = lm_poly.predict(X_train_poly)\n",
    "poly_train_residuals = yhat_poly_train - y_train\n",
    "\n",
    "rmse_poly = sqrt(mean_squared_error(y_train, yhat_poly_train))\n",
    "rsquared_poly = explained_variance_score(y_train, yhat_poly_train)\n",
    "\n",
    "print(\"Train Set\\nPolynomial : degree=2\")\n",
    "print('-' * 24)\n",
    "print(f\"Polynomial Model RMSE: {rmse_poly:.2f}\")\n",
    "print(f\"Polynomial R^2: {rsquared_poly:.2%}\")"
   ]
  },
  {
   "cell_type": "code",
   "execution_count": 27,
   "metadata": {},
   "outputs": [],
   "source": [
    "# from sklearn.linear_model import LogisticRegressionCV"
   ]
  },
  {
   "cell_type": "code",
   "execution_count": 28,
   "metadata": {},
   "outputs": [],
   "source": [
    "# logreg = LinearRegression()\n",
    "# logreg.fit(X_train, y_train)\n",
    "\n",
    "# yhat_log_train = logreg.predict(X_train_poly)\n",
    "# train_log_residuals = yhat_log_train - y_train\n",
    "\n",
    "# rmse_poly = sqrt(mean_squared_error(y_train, yhat))\n",
    "# rsquared_poly = explained_variance_score(y_train, yhat)\n",
    "\n",
    "# print(\"Train Set\\nPolynomial : degree=3\")\n",
    "# print('-' * 24)\n",
    "# print(f\"Polynomial Model RMSE: {rmse_poly:.2f}\")\n",
    "# print(f\"Polynomial R^2: {rsquared_poly:.2%}\")"
   ]
  },
  {
   "cell_type": "markdown",
   "metadata": {},
   "source": [
    "##  Validate"
   ]
  },
  {
   "cell_type": "markdown",
   "metadata": {},
   "source": [
    "yhat_poly_train = lm_poly.predict(X_)"
   ]
  }
 ],
 "metadata": {
  "kernelspec": {
   "display_name": "Python 3",
   "language": "python",
   "name": "python3"
  },
  "language_info": {
   "codemirror_mode": {
    "name": "ipython",
    "version": 3
   },
   "file_extension": ".py",
   "mimetype": "text/x-python",
   "name": "python",
   "nbconvert_exporter": "python",
   "pygments_lexer": "ipython3",
   "version": "3.7.6"
  }
 },
 "nbformat": 4,
 "nbformat_minor": 4
}
