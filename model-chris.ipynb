{
 "cells": [
  {
   "cell_type": "code",
   "execution_count": 4,
   "metadata": {},
   "outputs": [],
   "source": [
    "import numpy as np\n",
    "import pandas as pd\n",
    "import matplotlib.pyplot as plt\n",
    "import seaborn as sns\n",
    "\n",
    "from math import sqrt\n",
    "from statsmodels.formula.api import ols\n",
    "from sklearn.model_selection import train_test_split\n",
    "from sklearn.metrics import mean_squared_error, explained_variance_score\n",
    "from sklearn.linear_model import LinearRegression, LassoLars, TweedieRegressor\n",
    "from sklearn.preprocessing import PolynomialFeatures\n",
    "\n",
    "from sklearn.feature_selection import RFE\n",
    "from wrangle import wrangle_data\n",
    "from prepare import prepare_zillow_mvp\n",
    "import warnings\n",
    "warnings.filterwarnings(\"ignore\")"
   ]
  },
  {
   "cell_type": "code",
   "execution_count": 16,
   "metadata": {},
   "outputs": [],
   "source": [
    "df = prepare_zillow_mvp()"
   ]
  },
  {
   "cell_type": "code",
   "execution_count": 80,
   "metadata": {},
   "outputs": [],
   "source": [
    "model_1_data = df.drop(columns='more_than_two_bath')\n",
    "model_2_data = df[['more_than_two_bath','taxvaluedollarcnt']]\n",
    "model_3_data = df[['calculatedfinishedsquarefeet', 'more_than_two_bath', 'taxvaluedollarcnt']]"
   ]
  },
  {
   "cell_type": "markdown",
   "metadata": {},
   "source": [
    "#  Model 1 Data\n",
    "---\n",
    "Features: bathroomcnt_scaled, bedroomcnt_scaled, calculatedfinishedsquarefeet_scaled "
   ]
  },
  {
   "cell_type": "code",
   "execution_count": 86,
   "metadata": {},
   "outputs": [],
   "source": [
    "X_train, y_train, X_validate, y_validate, X_test, y_test = wrangle_data(model_1_data, 'taxvaluedollarcnt', modeling=True)"
   ]
  },
  {
   "cell_type": "code",
   "execution_count": 87,
   "metadata": {},
   "outputs": [
    {
     "data": {
      "text/html": [
       "<div>\n",
       "<style scoped>\n",
       "    .dataframe tbody tr th:only-of-type {\n",
       "        vertical-align: middle;\n",
       "    }\n",
       "\n",
       "    .dataframe tbody tr th {\n",
       "        vertical-align: top;\n",
       "    }\n",
       "\n",
       "    .dataframe thead th {\n",
       "        text-align: right;\n",
       "    }\n",
       "</style>\n",
       "<table border=\"1\" class=\"dataframe\">\n",
       "  <thead>\n",
       "    <tr style=\"text-align: right;\">\n",
       "      <th></th>\n",
       "      <th>bathroomcnt_scaled</th>\n",
       "      <th>bedroomcnt_scaled</th>\n",
       "      <th>calculatedfinishedsquarefeet_scaled</th>\n",
       "    </tr>\n",
       "  </thead>\n",
       "  <tbody>\n",
       "    <tr>\n",
       "      <th>1711167</th>\n",
       "      <td>0.047619</td>\n",
       "      <td>0.166667</td>\n",
       "      <td>0.001309</td>\n",
       "    </tr>\n",
       "    <tr>\n",
       "      <th>2312067</th>\n",
       "      <td>0.063492</td>\n",
       "      <td>0.222222</td>\n",
       "      <td>0.002381</td>\n",
       "    </tr>\n",
       "    <tr>\n",
       "      <th>1020698</th>\n",
       "      <td>0.047619</td>\n",
       "      <td>0.111111</td>\n",
       "      <td>0.001028</td>\n",
       "    </tr>\n",
       "    <tr>\n",
       "      <th>2089824</th>\n",
       "      <td>0.047619</td>\n",
       "      <td>0.111111</td>\n",
       "      <td>0.001274</td>\n",
       "    </tr>\n",
       "    <tr>\n",
       "      <th>2218083</th>\n",
       "      <td>0.079365</td>\n",
       "      <td>0.166667</td>\n",
       "      <td>0.001858</td>\n",
       "    </tr>\n",
       "    <tr>\n",
       "      <th>...</th>\n",
       "      <td>...</td>\n",
       "      <td>...</td>\n",
       "      <td>...</td>\n",
       "    </tr>\n",
       "    <tr>\n",
       "      <th>1209</th>\n",
       "      <td>0.047619</td>\n",
       "      <td>0.166667</td>\n",
       "      <td>0.002031</td>\n",
       "    </tr>\n",
       "    <tr>\n",
       "      <th>1769202</th>\n",
       "      <td>0.047619</td>\n",
       "      <td>0.166667</td>\n",
       "      <td>0.001525</td>\n",
       "    </tr>\n",
       "    <tr>\n",
       "      <th>1453262</th>\n",
       "      <td>0.015873</td>\n",
       "      <td>0.111111</td>\n",
       "      <td>0.001038</td>\n",
       "    </tr>\n",
       "    <tr>\n",
       "      <th>967351</th>\n",
       "      <td>0.095238</td>\n",
       "      <td>0.166667</td>\n",
       "      <td>0.003761</td>\n",
       "    </tr>\n",
       "    <tr>\n",
       "      <th>82744</th>\n",
       "      <td>0.015873</td>\n",
       "      <td>0.111111</td>\n",
       "      <td>0.000716</td>\n",
       "    </tr>\n",
       "  </tbody>\n",
       "</table>\n",
       "<p>1369280 rows × 3 columns</p>\n",
       "</div>"
      ],
      "text/plain": [
       "         bathroomcnt_scaled  bedroomcnt_scaled  \\\n",
       "1711167            0.047619           0.166667   \n",
       "2312067            0.063492           0.222222   \n",
       "1020698            0.047619           0.111111   \n",
       "2089824            0.047619           0.111111   \n",
       "2218083            0.079365           0.166667   \n",
       "...                     ...                ...   \n",
       "1209               0.047619           0.166667   \n",
       "1769202            0.047619           0.166667   \n",
       "1453262            0.015873           0.111111   \n",
       "967351             0.095238           0.166667   \n",
       "82744              0.015873           0.111111   \n",
       "\n",
       "         calculatedfinishedsquarefeet_scaled  \n",
       "1711167                             0.001309  \n",
       "2312067                             0.002381  \n",
       "1020698                             0.001028  \n",
       "2089824                             0.001274  \n",
       "2218083                             0.001858  \n",
       "...                                      ...  \n",
       "1209                                0.002031  \n",
       "1769202                             0.001525  \n",
       "1453262                             0.001038  \n",
       "967351                              0.003761  \n",
       "82744                               0.000716  \n",
       "\n",
       "[1369280 rows x 3 columns]"
      ]
     },
     "execution_count": 87,
     "metadata": {},
     "output_type": "execute_result"
    }
   ],
   "source": [
    "X_train"
   ]
  },
  {
   "cell_type": "code",
   "execution_count": 88,
   "metadata": {},
   "outputs": [
    {
     "name": "stdout",
     "output_type": "stream",
     "text": [
      "Baseline Model\n",
      "------------------------\n",
      "Basline Model RMSE: 672494.82\n",
      "Basline R^2: 0.00%\n"
     ]
    }
   ],
   "source": [
    "df_model_evals = pd.DataFrame()\n",
    "\n",
    "df_model_evals['y'] = y_train\n",
    "df_model_evals['baseline_yhat'] = y_train.mean()\n",
    "\n",
    "rmse_poly = sqrt(mean_squared_error(df_model_evals.y, df_model_evals.baseline_yhat))\n",
    "rsquared_poly = explained_variance_score(y_train, df_model_evals.baseline_yhat)\n",
    "\n",
    "print(\"Baseline Model\")\n",
    "print('-' * 24)\n",
    "print(f\"Basline Model RMSE: {rmse_poly:.2f}\")\n",
    "print(f\"Basline R^2: {rsquared_poly:.2%}\")"
   ]
  },
  {
   "cell_type": "code",
   "execution_count": 89,
   "metadata": {},
   "outputs": [
    {
     "data": {
      "text/html": [
       "<div>\n",
       "<style scoped>\n",
       "    .dataframe tbody tr th:only-of-type {\n",
       "        vertical-align: middle;\n",
       "    }\n",
       "\n",
       "    .dataframe tbody tr th {\n",
       "        vertical-align: top;\n",
       "    }\n",
       "\n",
       "    .dataframe thead th {\n",
       "        text-align: right;\n",
       "    }\n",
       "</style>\n",
       "<table border=\"1\" class=\"dataframe\">\n",
       "  <thead>\n",
       "    <tr style=\"text-align: right;\">\n",
       "      <th></th>\n",
       "      <th>y</th>\n",
       "      <th>baseline_yhat</th>\n",
       "    </tr>\n",
       "  </thead>\n",
       "  <tbody>\n",
       "    <tr>\n",
       "      <th>1711167</th>\n",
       "      <td>396962.0</td>\n",
       "      <td>460756.703083</td>\n",
       "    </tr>\n",
       "    <tr>\n",
       "      <th>2312067</th>\n",
       "      <td>630000.0</td>\n",
       "      <td>460756.703083</td>\n",
       "    </tr>\n",
       "    <tr>\n",
       "      <th>1020698</th>\n",
       "      <td>177856.0</td>\n",
       "      <td>460756.703083</td>\n",
       "    </tr>\n",
       "    <tr>\n",
       "      <th>2089824</th>\n",
       "      <td>524893.0</td>\n",
       "      <td>460756.703083</td>\n",
       "    </tr>\n",
       "    <tr>\n",
       "      <th>2218083</th>\n",
       "      <td>96286.0</td>\n",
       "      <td>460756.703083</td>\n",
       "    </tr>\n",
       "  </tbody>\n",
       "</table>\n",
       "</div>"
      ],
      "text/plain": [
       "                y  baseline_yhat\n",
       "1711167  396962.0  460756.703083\n",
       "2312067  630000.0  460756.703083\n",
       "1020698  177856.0  460756.703083\n",
       "2089824  524893.0  460756.703083\n",
       "2218083   96286.0  460756.703083"
      ]
     },
     "execution_count": 89,
     "metadata": {},
     "output_type": "execute_result"
    }
   ],
   "source": [
    "df_model_evals.head()"
   ]
  },
  {
   "cell_type": "code",
   "execution_count": 91,
   "metadata": {},
   "outputs": [
    {
     "name": "stdout",
     "output_type": "stream",
     "text": [
      "Train Set\n",
      "Polynomial : degree=3\n",
      "------------------------\n",
      "Polynomial Model RMSE: 490288.02\n",
      "Polynomial R^2: 46.85%\n"
     ]
    }
   ],
   "source": [
    "# Create a polynomial linear regression\n",
    "poly = PolynomialFeatures(3)\n",
    "\n",
    "X_train_poly = poly.fit_transform(X_train)\n",
    "X_validate_poly = poly.transform(X_validate)\n",
    "X_test_poly = poly.transform(X_test)\n",
    "\n",
    "lm_poly = LinearRegression()\n",
    "lm_poly.fit(X_train_poly, y_train)\n",
    "\n",
    "yhat_poly_train = lm_poly.predict(X_train_poly)\n",
    "poly_train_residuals = yhat_poly_train - y_train\n",
    "\n",
    "df_model_evals['poly_1_yhat'] = lm_poly.predict(X_train_poly)\n",
    "\n",
    "rmse_poly = sqrt(mean_squared_error(y_train, yhat_poly_train))\n",
    "rsquared_poly = explained_variance_score(y_train, yhat_poly_train)\n",
    "\n",
    "print(\"Train Set\\nPolynomial : degree=3\")\n",
    "print('-' * 24)\n",
    "print(f\"Polynomial Model RMSE: {rmse_poly:.2f}\")\n",
    "print(f\"Polynomial R^2: {rsquared_poly:.2%}\")"
   ]
  },
  {
   "cell_type": "code",
   "execution_count": 92,
   "metadata": {},
   "outputs": [
    {
     "data": {
      "text/html": [
       "<div>\n",
       "<style scoped>\n",
       "    .dataframe tbody tr th:only-of-type {\n",
       "        vertical-align: middle;\n",
       "    }\n",
       "\n",
       "    .dataframe tbody tr th {\n",
       "        vertical-align: top;\n",
       "    }\n",
       "\n",
       "    .dataframe thead th {\n",
       "        text-align: right;\n",
       "    }\n",
       "</style>\n",
       "<table border=\"1\" class=\"dataframe\">\n",
       "  <thead>\n",
       "    <tr style=\"text-align: right;\">\n",
       "      <th></th>\n",
       "      <th>y</th>\n",
       "      <th>baseline_yhat</th>\n",
       "      <th>poly_1_yhat</th>\n",
       "    </tr>\n",
       "  </thead>\n",
       "  <tbody>\n",
       "    <tr>\n",
       "      <th>1711167</th>\n",
       "      <td>396962.0</td>\n",
       "      <td>460756.703083</td>\n",
       "      <td>263984.028220</td>\n",
       "    </tr>\n",
       "    <tr>\n",
       "      <th>2312067</th>\n",
       "      <td>630000.0</td>\n",
       "      <td>460756.703083</td>\n",
       "      <td>467517.903765</td>\n",
       "    </tr>\n",
       "    <tr>\n",
       "      <th>1020698</th>\n",
       "      <td>177856.0</td>\n",
       "      <td>460756.703083</td>\n",
       "      <td>251231.178129</td>\n",
       "    </tr>\n",
       "    <tr>\n",
       "      <th>2089824</th>\n",
       "      <td>524893.0</td>\n",
       "      <td>460756.703083</td>\n",
       "      <td>321888.391171</td>\n",
       "    </tr>\n",
       "    <tr>\n",
       "      <th>2218083</th>\n",
       "      <td>96286.0</td>\n",
       "      <td>460756.703083</td>\n",
       "      <td>441210.512722</td>\n",
       "    </tr>\n",
       "  </tbody>\n",
       "</table>\n",
       "</div>"
      ],
      "text/plain": [
       "                y  baseline_yhat    poly_1_yhat\n",
       "1711167  396962.0  460756.703083  263984.028220\n",
       "2312067  630000.0  460756.703083  467517.903765\n",
       "1020698  177856.0  460756.703083  251231.178129\n",
       "2089824  524893.0  460756.703083  321888.391171\n",
       "2218083   96286.0  460756.703083  441210.512722"
      ]
     },
     "execution_count": 92,
     "metadata": {},
     "output_type": "execute_result"
    }
   ],
   "source": [
    "df_model_evals.head()"
   ]
  },
  {
   "cell_type": "code",
   "execution_count": 62,
   "metadata": {},
   "outputs": [
    {
     "data": {
      "text/plain": [
       "LinearRegression()"
      ]
     },
     "execution_count": 62,
     "metadata": {},
     "output_type": "execute_result"
    }
   ],
   "source": [
    "lm = LinearRegression()\n",
    "lm.fit(X_train, y_train)"
   ]
  },
  {
   "cell_type": "code",
   "execution_count": 63,
   "metadata": {},
   "outputs": [],
   "source": [
    "yhat_linear_regression = lm.predict(X_train)"
   ]
  },
  {
   "cell_type": "code",
   "execution_count": 64,
   "metadata": {},
   "outputs": [
    {
     "name": "stdout",
     "output_type": "stream",
     "text": [
      "Train Set\n",
      "Linear Regression\n",
      "------------------------\n",
      "Linear Regression Model RMSE: 561272.34\n",
      "Linear Regression R^2: 30.34%\n"
     ]
    }
   ],
   "source": [
    "residuals = yhat_linear_regression - y_train\n",
    "\n",
    "rmse_poly = sqrt(mean_squared_error(y_train, yhat_linear_regression))\n",
    "rsquared_poly = explained_variance_score(y_train, yhat_linear_regression)\n",
    "\n",
    "print(\"Train Set\\nLinear Regression\")\n",
    "print('-' * 24)\n",
    "print(f\"Linear Regression Model RMSE: {rmse_poly:.2f}\")\n",
    "print(f\"Linear Regression R^2: {rsquared_poly:.2%}\")"
   ]
  },
  {
   "cell_type": "markdown",
   "metadata": {},
   "source": [
    "#  Model 2 Data\n",
    "---\n",
    "Features:"
   ]
  },
  {
   "cell_type": "code",
   "execution_count": 67,
   "metadata": {},
   "outputs": [],
   "source": [
    "X_train, y_train, X_validate, y_validate, X_test, y_test = wrangle_data(model_2_data, 'taxvaluedollarcnt', modeling=True)"
   ]
  },
  {
   "cell_type": "code",
   "execution_count": 68,
   "metadata": {},
   "outputs": [],
   "source": [
    "# Create a polynomial linear regression\n",
    "poly = PolynomialFeatures()\n",
    "\n",
    "X_train_poly = poly.fit_transform(X_train)\n",
    "X_validate_poly = poly.transform(X_validate)\n",
    "X_test_poly = poly.transform(X_test)"
   ]
  },
  {
   "cell_type": "code",
   "execution_count": 76,
   "metadata": {},
   "outputs": [
    {
     "name": "stdout",
     "output_type": "stream",
     "text": [
      "Train Set\n",
      "Polynomial : degree=2\n",
      "------------------------\n",
      "Polynomial Model RMSE: 639786.30\n",
      "Polynomial R^2: 9.49%\n"
     ]
    }
   ],
   "source": [
    "lm_poly = LinearRegression(2)\n",
    "lm_poly.fit(X_train_poly, y_train)\n",
    "\n",
    "yhat_poly_train = lm_poly.predict(X_train_poly)\n",
    "poly_train_residuals = yhat_poly_train - y_train\n",
    "\n",
    "rmse_poly = sqrt(mean_squared_error(y_train, yhat_poly_train))\n",
    "rsquared_poly = explained_variance_score(y_train, yhat_poly_train)\n",
    "\n",
    "print(\"Train Set\\nPolynomial : degree=2\")\n",
    "print('-' * 24)\n",
    "print(f\"Polynomial Model RMSE: {rmse_poly:.2f}\")\n",
    "print(f\"Polynomial R^2: {rsquared_poly:.2%}\")"
   ]
  },
  {
   "cell_type": "code",
   "execution_count": 77,
   "metadata": {},
   "outputs": [
    {
     "data": {
      "image/png": "[encoded data removed]",
      "text/plain": [
       "<Figure size 432x288 with 1 Axes>"
      ]
     },
     "metadata": {
      "needs_background": "light"
     },
     "output_type": "display_data"
    }
   ],
   "source": [
    "sns.regplot(y_train, yhat_poly_train);"
   ]
  },
  {
   "cell_type": "code",
   "execution_count": 75,
   "metadata": {},
   "outputs": [
    {
     "name": "stdout",
     "output_type": "stream",
     "text": [
      "Train Set\n",
      "Linear Regression\n",
      "------------------------\n",
      "Linear Regression Model RMSE: 639786.30\n",
      "Linear Regression R^2: 9.49%\n"
     ]
    }
   ],
   "source": [
    "lm = LinearRegression()\n",
    "lm.fit(X_train, y_train)\n",
    "\n",
    "yhat_linear_regression = lm.predict(X_train)\n",
    "\n",
    "residuals = yhat_linear_regression - y_train\n",
    "\n",
    "rmse_poly = sqrt(mean_squared_error(y_train, yhat_linear_regression))\n",
    "rsquared_poly = explained_variance_score(y_train, yhat_linear_regression)\n",
    "\n",
    "print(\"Train Set\\nLinear Regression\")\n",
    "print('-' * 24)\n",
    "print(f\"Linear Regression Model RMSE: {rmse_poly:.2f}\")\n",
    "print(f\"Linear Regression R^2: {rsquared_poly:.2%}\")"
   ]
  },
  {
   "cell_type": "code",
   "execution_count": 81,
   "metadata": {},
   "outputs": [],
   "source": [
    "X_train, y_train, X_validate, y_validate, X_test, y_test = wrangle_data(model_3_data, 'taxvaluedollarcnt', modeling=True)"
   ]
  },
  {
   "cell_type": "code",
   "execution_count": 82,
   "metadata": {},
   "outputs": [
    {
     "data": {
      "text/html": [
       "<div>\n",
       "<style scoped>\n",
       "    .dataframe tbody tr th:only-of-type {\n",
       "        vertical-align: middle;\n",
       "    }\n",
       "\n",
       "    .dataframe tbody tr th {\n",
       "        vertical-align: top;\n",
       "    }\n",
       "\n",
       "    .dataframe thead th {\n",
       "        text-align: right;\n",
       "    }\n",
       "</style>\n",
       "<table border=\"1\" class=\"dataframe\">\n",
       "  <thead>\n",
       "    <tr style=\"text-align: right;\">\n",
       "      <th></th>\n",
       "      <th>calculatedfinishedsquarefeet_scaled</th>\n",
       "      <th>more_than_two_bath_scaled</th>\n",
       "    </tr>\n",
       "  </thead>\n",
       "  <tbody>\n",
       "    <tr>\n",
       "      <th>1711167</th>\n",
       "      <td>0.001309</td>\n",
       "      <td>0.0</td>\n",
       "    </tr>\n",
       "    <tr>\n",
       "      <th>2312067</th>\n",
       "      <td>0.002381</td>\n",
       "      <td>1.0</td>\n",
       "    </tr>\n",
       "    <tr>\n",
       "      <th>1020698</th>\n",
       "      <td>0.001028</td>\n",
       "      <td>0.0</td>\n",
       "    </tr>\n",
       "    <tr>\n",
       "      <th>2089824</th>\n",
       "      <td>0.001274</td>\n",
       "      <td>0.0</td>\n",
       "    </tr>\n",
       "    <tr>\n",
       "      <th>2218083</th>\n",
       "      <td>0.001858</td>\n",
       "      <td>1.0</td>\n",
       "    </tr>\n",
       "  </tbody>\n",
       "</table>\n",
       "</div>"
      ],
      "text/plain": [
       "         calculatedfinishedsquarefeet_scaled  more_than_two_bath_scaled\n",
       "1711167                             0.001309                        0.0\n",
       "2312067                             0.002381                        1.0\n",
       "1020698                             0.001028                        0.0\n",
       "2089824                             0.001274                        0.0\n",
       "2218083                             0.001858                        1.0"
      ]
     },
     "execution_count": 82,
     "metadata": {},
     "output_type": "execute_result"
    }
   ],
   "source": [
    "X_train.head()"
   ]
  },
  {
   "cell_type": "code",
   "execution_count": 84,
   "metadata": {},
   "outputs": [
    {
     "name": "stdout",
     "output_type": "stream",
     "text": [
      "Train Set\n",
      "Polynomial : degree=3\n",
      "------------------------\n",
      "Polynomial Model RMSE: 505011.71\n",
      "Polynomial R^2: 43.61%\n"
     ]
    }
   ],
   "source": [
    "X_train_poly = poly.fit_transform(X_train)\n",
    "X_validate_poly = poly.transform(X_validate)\n",
    "X_test_poly = poly.transform(X_test)\n",
    "\n",
    "lm_poly = LinearRegression(3)\n",
    "lm_poly.fit(X_train_poly, y_train)\n",
    "\n",
    "yhat_poly_train = lm_poly.predict(X_train_poly)\n",
    "poly_train_residuals = yhat_poly_train - y_train\n",
    "\n",
    "rmse_poly = sqrt(mean_squared_error(y_train, yhat_poly_train))\n",
    "rsquared_poly = explained_variance_score(y_train, yhat_poly_train)\n",
    "\n",
    "print(\"Train Set\\nPolynomial : degree=3\")\n",
    "print('-' * 24)\n",
    "print(f\"Polynomial Model RMSE: {rmse_poly:.2f}\")\n",
    "print(f\"Polynomial R^2: {rsquared_poly:.2%}\")"
   ]
  },
  {
   "cell_type": "code",
   "execution_count": 85,
   "metadata": {},
   "outputs": [],
   "source": [
    "# from sklearn.linear_model import LogisticRegressionCV"
   ]
  },
  {
   "cell_type": "code",
   "execution_count": null,
   "metadata": {},
   "outputs": [],
   "source": [
    "# logreg = LinearRegression()\n",
    "# logreg.fit(X_train, y_train)\n",
    "\n",
    "# yhat_log_train = logreg.predict(X_train_poly)\n",
    "# train_log_residuals = yhat_log_train - y_train\n",
    "\n",
    "# rmse_poly = sqrt(mean_squared_error(y_train, yhat))\n",
    "# rsquared_poly = explained_variance_score(y_train, yhat)\n",
    "\n",
    "# print(\"Train Set\\nPolynomial : degree=3\")\n",
    "# print('-' * 24)\n",
    "# print(f\"Polynomial Model RMSE: {rmse_poly:.2f}\")\n",
    "# print(f\"Polynomial R^2: {rsquared_poly:.2%}\")"
   ]
  },
  {
   "cell_type": "markdown",
   "metadata": {},
   "source": [
    "##  Validate"
   ]
  },
  {
   "cell_type": "markdown",
   "metadata": {},
   "source": [
    "yhat_poly_train = lm_poly.predict(X_)"
   ]
  }
 ],
 "metadata": {
  "kernelspec": {
   "display_name": "Python 3",
   "language": "python",
   "name": "python3"
  },
  "language_info": {
   "codemirror_mode": {
    "name": "ipython",
    "version": 3
   },
   "file_extension": ".py",
   "mimetype": "text/x-python",
   "name": "python",
   "nbconvert_exporter": "python",
   "pygments_lexer": "ipython3",
   "version": "3.7.6"
  }
 },
 "nbformat": 4,
 "nbformat_minor": 4
}
