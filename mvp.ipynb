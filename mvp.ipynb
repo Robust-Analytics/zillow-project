{
 "cells": [
  {
   "cell_type": "markdown",
   "metadata": {},
   "source": [
    "# Zillow Project\n",
    "---\n",
    "## __Robust Analytics™__\n",
    "\n",
    "__Anthony Straine__<br>\n",
    "Junior Data Scientist\n",
    "\n",
    "__Christopher Ortiz__<br>\n",
    "Junior Data Scientist\n",
    "\n",
    "\n",
    "## Summary\n",
    "Working together we discovered for our MVP that the features that appear to drive home value as measure by taxvaluedollarcnt are bathroomcnt, bedroomcnt, calculatedfinishedsquarefeet. We discovered this by going through an iterative, manual process of feature selection using a Pearson's R correlation test to select the top two features of bathroomcnt and calculatedfinishedsquarefeet and using industry knowledge to also include calculatedfinishedsquarefeet and homes having more than 2 bathrooms. After testing a few models, the model that performed the best was our model1 data (bathroomcnt, bedroomcnt, calculatedfinishedsquarefeet, taxvaluedollarcnt) and using a Polynomial-features algorithm. The features in this model explain 47% of the variance.\n",
    "\n",
    "For our next iteration we will look at additional features while controlling for outliers.\n",
    "\n",
    "\n",
    "## Content\n",
    "- [Acquisition](#acquisition)\n",
    "- [Preparation](#preparation)\n",
    "- [Exploration](#exploration)\n",
    "- [Modeling](#modeling)\n",
    "- [Summary](#summary)"
   ]
  },
  {
   "cell_type": "code",
   "execution_count": 26,
   "metadata": {},
   "outputs": [],
   "source": [
    "import numpy as np\n",
    "import pandas as pd\n",
    "import matplotlib.pyplot as plt\n",
    "import seaborn as sns\n",
    "\n",
    "from math import sqrt\n",
    "from statsmodels.formula.api import ols\n",
    "from sklearn.model_selection import train_test_split\n",
    "from sklearn.metrics import mean_squared_error, explained_variance_score\n",
    "from sklearn.linear_model import LinearRegression, LassoLars, Ridge\n",
    "from sklearn.preprocessing import PolynomialFeatures\n",
    "from scipy import stats\n",
    "\n",
    "from sklearn.feature_selection import RFE\n",
    "from acquire import load_zillow_data\n",
    "from prepare import prepare_zillow_mvp\n",
    "from wrangle import wrangle_data\n",
    "\n",
    "import warnings\n",
    "warnings.filterwarnings(\"ignore\")"
   ]
  },
  {
   "cell_type": "markdown",
   "metadata": {},
   "source": [
    "# Acquisition\n",
    "---"
   ]
  },
  {
   "cell_type": "code",
   "execution_count": 2,
   "metadata": {},
   "outputs": [],
   "source": [
    "df_zillow = load_zillow_data()"
   ]
  },
  {
   "cell_type": "code",
   "execution_count": 3,
   "metadata": {},
   "outputs": [
    {
     "data": {
      "text/html": [
       "<div>\n",
       "<style scoped>\n",
       "    .dataframe tbody tr th:only-of-type {\n",
       "        vertical-align: middle;\n",
       "    }\n",
       "\n",
       "    .dataframe tbody tr th {\n",
       "        vertical-align: top;\n",
       "    }\n",
       "\n",
       "    .dataframe thead th {\n",
       "        text-align: right;\n",
       "    }\n",
       "</style>\n",
       "<table border=\"1\" class=\"dataframe\">\n",
       "  <thead>\n",
       "    <tr style=\"text-align: right;\">\n",
       "      <th></th>\n",
       "      <th>parcelid</th>\n",
       "      <th>id</th>\n",
       "      <th>airconditioningtypeid</th>\n",
       "      <th>architecturalstyletypeid</th>\n",
       "      <th>basementsqft</th>\n",
       "      <th>bathroomcnt</th>\n",
       "      <th>bedroomcnt</th>\n",
       "      <th>buildingclasstypeid</th>\n",
       "      <th>buildingqualitytypeid</th>\n",
       "      <th>calculatedbathnbr</th>\n",
       "      <th>...</th>\n",
       "      <th>taxvaluedollarcnt</th>\n",
       "      <th>assessmentyear</th>\n",
       "      <th>landtaxvaluedollarcnt</th>\n",
       "      <th>taxamount</th>\n",
       "      <th>taxdelinquencyflag</th>\n",
       "      <th>taxdelinquencyyear</th>\n",
       "      <th>censustractandblock</th>\n",
       "      <th>id.1</th>\n",
       "      <th>logerror</th>\n",
       "      <th>transactiondate</th>\n",
       "    </tr>\n",
       "  </thead>\n",
       "  <tbody>\n",
       "    <tr>\n",
       "      <th>0</th>\n",
       "      <td>11393337</td>\n",
       "      <td>2463969</td>\n",
       "      <td>NaN</td>\n",
       "      <td>NaN</td>\n",
       "      <td>NaN</td>\n",
       "      <td>3.0</td>\n",
       "      <td>3.0</td>\n",
       "      <td>NaN</td>\n",
       "      <td>4.0</td>\n",
       "      <td>3.0</td>\n",
       "      <td>...</td>\n",
       "      <td>43439.0</td>\n",
       "      <td>2016.0</td>\n",
       "      <td>22755.0</td>\n",
       "      <td>756.94</td>\n",
       "      <td>Y</td>\n",
       "      <td>14.0</td>\n",
       "      <td>6.037235e+13</td>\n",
       "      <td>117</td>\n",
       "      <td>0.086137</td>\n",
       "      <td>2017-06-08</td>\n",
       "    </tr>\n",
       "    <tr>\n",
       "      <th>1</th>\n",
       "      <td>11289917</td>\n",
       "      <td>2061546</td>\n",
       "      <td>1.0</td>\n",
       "      <td>NaN</td>\n",
       "      <td>NaN</td>\n",
       "      <td>2.0</td>\n",
       "      <td>3.0</td>\n",
       "      <td>NaN</td>\n",
       "      <td>6.0</td>\n",
       "      <td>2.0</td>\n",
       "      <td>...</td>\n",
       "      <td>136104.0</td>\n",
       "      <td>2016.0</td>\n",
       "      <td>27214.0</td>\n",
       "      <td>2319.90</td>\n",
       "      <td>Y</td>\n",
       "      <td>15.0</td>\n",
       "      <td>6.037901e+13</td>\n",
       "      <td>1248</td>\n",
       "      <td>-0.362001</td>\n",
       "      <td>2017-06-23</td>\n",
       "    </tr>\n",
       "    <tr>\n",
       "      <th>2</th>\n",
       "      <td>11705026</td>\n",
       "      <td>1834372</td>\n",
       "      <td>NaN</td>\n",
       "      <td>NaN</td>\n",
       "      <td>NaN</td>\n",
       "      <td>1.0</td>\n",
       "      <td>2.0</td>\n",
       "      <td>NaN</td>\n",
       "      <td>6.0</td>\n",
       "      <td>1.0</td>\n",
       "      <td>...</td>\n",
       "      <td>35606.0</td>\n",
       "      <td>2016.0</td>\n",
       "      <td>23624.0</td>\n",
       "      <td>543.69</td>\n",
       "      <td>NaN</td>\n",
       "      <td>NaN</td>\n",
       "      <td>6.037232e+13</td>\n",
       "      <td>1772</td>\n",
       "      <td>-0.146056</td>\n",
       "      <td>2017-06-30</td>\n",
       "    </tr>\n",
       "    <tr>\n",
       "      <th>3</th>\n",
       "      <td>14269464</td>\n",
       "      <td>1923117</td>\n",
       "      <td>NaN</td>\n",
       "      <td>NaN</td>\n",
       "      <td>NaN</td>\n",
       "      <td>3.0</td>\n",
       "      <td>4.0</td>\n",
       "      <td>NaN</td>\n",
       "      <td>NaN</td>\n",
       "      <td>3.0</td>\n",
       "      <td>...</td>\n",
       "      <td>880456.0</td>\n",
       "      <td>2016.0</td>\n",
       "      <td>445569.0</td>\n",
       "      <td>9819.72</td>\n",
       "      <td>NaN</td>\n",
       "      <td>NaN</td>\n",
       "      <td>6.059064e+13</td>\n",
       "      <td>2028</td>\n",
       "      <td>0.021085</td>\n",
       "      <td>2017-06-01</td>\n",
       "    </tr>\n",
       "    <tr>\n",
       "      <th>4</th>\n",
       "      <td>11389003</td>\n",
       "      <td>2121349</td>\n",
       "      <td>NaN</td>\n",
       "      <td>NaN</td>\n",
       "      <td>NaN</td>\n",
       "      <td>2.0</td>\n",
       "      <td>3.0</td>\n",
       "      <td>NaN</td>\n",
       "      <td>6.0</td>\n",
       "      <td>2.0</td>\n",
       "      <td>...</td>\n",
       "      <td>614000.0</td>\n",
       "      <td>2016.0</td>\n",
       "      <td>449000.0</td>\n",
       "      <td>7673.19</td>\n",
       "      <td>NaN</td>\n",
       "      <td>NaN</td>\n",
       "      <td>6.037703e+13</td>\n",
       "      <td>3273</td>\n",
       "      <td>-0.325393</td>\n",
       "      <td>2017-06-01</td>\n",
       "    </tr>\n",
       "  </tbody>\n",
       "</table>\n",
       "<p>5 rows × 62 columns</p>\n",
       "</div>"
      ],
      "text/plain": [
       "   parcelid       id  airconditioningtypeid  architecturalstyletypeid  \\\n",
       "0  11393337  2463969                    NaN                       NaN   \n",
       "1  11289917  2061546                    1.0                       NaN   \n",
       "2  11705026  1834372                    NaN                       NaN   \n",
       "3  14269464  1923117                    NaN                       NaN   \n",
       "4  11389003  2121349                    NaN                       NaN   \n",
       "\n",
       "   basementsqft  bathroomcnt  bedroomcnt  buildingclasstypeid  \\\n",
       "0           NaN          3.0         3.0                  NaN   \n",
       "1           NaN          2.0         3.0                  NaN   \n",
       "2           NaN          1.0         2.0                  NaN   \n",
       "3           NaN          3.0         4.0                  NaN   \n",
       "4           NaN          2.0         3.0                  NaN   \n",
       "\n",
       "   buildingqualitytypeid  calculatedbathnbr  ...  taxvaluedollarcnt  \\\n",
       "0                    4.0                3.0  ...            43439.0   \n",
       "1                    6.0                2.0  ...           136104.0   \n",
       "2                    6.0                1.0  ...            35606.0   \n",
       "3                    NaN                3.0  ...           880456.0   \n",
       "4                    6.0                2.0  ...           614000.0   \n",
       "\n",
       "   assessmentyear  landtaxvaluedollarcnt  taxamount  taxdelinquencyflag  \\\n",
       "0          2016.0                22755.0     756.94                   Y   \n",
       "1          2016.0                27214.0    2319.90                   Y   \n",
       "2          2016.0                23624.0     543.69                 NaN   \n",
       "3          2016.0               445569.0    9819.72                 NaN   \n",
       "4          2016.0               449000.0    7673.19                 NaN   \n",
       "\n",
       "   taxdelinquencyyear  censustractandblock  id.1  logerror  transactiondate  \n",
       "0                14.0         6.037235e+13   117  0.086137       2017-06-08  \n",
       "1                15.0         6.037901e+13  1248 -0.362001       2017-06-23  \n",
       "2                 NaN         6.037232e+13  1772 -0.146056       2017-06-30  \n",
       "3                 NaN         6.059064e+13  2028  0.021085       2017-06-01  \n",
       "4                 NaN         6.037703e+13  3273 -0.325393       2017-06-01  \n",
       "\n",
       "[5 rows x 62 columns]"
      ]
     },
     "execution_count": 3,
     "metadata": {},
     "output_type": "execute_result"
    }
   ],
   "source": [
    "df_zillow.head()"
   ]
  },
  {
   "cell_type": "markdown",
   "metadata": {},
   "source": [
    "#  Preparation\n",
    "---"
   ]
  },
  {
   "cell_type": "code",
   "execution_count": 4,
   "metadata": {},
   "outputs": [],
   "source": [
    "df = prepare_zillow_mvp()"
   ]
  },
  {
   "cell_type": "code",
   "execution_count": 5,
   "metadata": {},
   "outputs": [
    {
     "data": {
      "text/plain": [
       "(14996, 5)"
      ]
     },
     "execution_count": 5,
     "metadata": {},
     "output_type": "execute_result"
    }
   ],
   "source": [
    "df.shape"
   ]
  },
  {
   "cell_type": "code",
   "execution_count": 6,
   "metadata": {},
   "outputs": [
    {
     "data": {
      "text/html": [
       "<div>\n",
       "<style scoped>\n",
       "    .dataframe tbody tr th:only-of-type {\n",
       "        vertical-align: middle;\n",
       "    }\n",
       "\n",
       "    .dataframe tbody tr th {\n",
       "        vertical-align: top;\n",
       "    }\n",
       "\n",
       "    .dataframe thead th {\n",
       "        text-align: right;\n",
       "    }\n",
       "</style>\n",
       "<table border=\"1\" class=\"dataframe\">\n",
       "  <thead>\n",
       "    <tr style=\"text-align: right;\">\n",
       "      <th></th>\n",
       "      <th>bathroomcnt</th>\n",
       "      <th>bedroomcnt</th>\n",
       "      <th>calculatedfinishedsquarefeet</th>\n",
       "      <th>taxvaluedollarcnt</th>\n",
       "      <th>more_than_two_bath</th>\n",
       "    </tr>\n",
       "  </thead>\n",
       "  <tbody>\n",
       "    <tr>\n",
       "      <th>1</th>\n",
       "      <td>2.0</td>\n",
       "      <td>3.0</td>\n",
       "      <td>1458.0</td>\n",
       "      <td>136104.0</td>\n",
       "      <td>0</td>\n",
       "    </tr>\n",
       "    <tr>\n",
       "      <th>2</th>\n",
       "      <td>1.0</td>\n",
       "      <td>2.0</td>\n",
       "      <td>1421.0</td>\n",
       "      <td>35606.0</td>\n",
       "      <td>0</td>\n",
       "    </tr>\n",
       "    <tr>\n",
       "      <th>3</th>\n",
       "      <td>3.0</td>\n",
       "      <td>4.0</td>\n",
       "      <td>2541.0</td>\n",
       "      <td>880456.0</td>\n",
       "      <td>1</td>\n",
       "    </tr>\n",
       "    <tr>\n",
       "      <th>4</th>\n",
       "      <td>2.0</td>\n",
       "      <td>3.0</td>\n",
       "      <td>1650.0</td>\n",
       "      <td>614000.0</td>\n",
       "      <td>0</td>\n",
       "    </tr>\n",
       "    <tr>\n",
       "      <th>5</th>\n",
       "      <td>1.0</td>\n",
       "      <td>2.0</td>\n",
       "      <td>693.0</td>\n",
       "      <td>274237.0</td>\n",
       "      <td>0</td>\n",
       "    </tr>\n",
       "  </tbody>\n",
       "</table>\n",
       "</div>"
      ],
      "text/plain": [
       "   bathroomcnt  bedroomcnt  calculatedfinishedsquarefeet  taxvaluedollarcnt  \\\n",
       "1          2.0         3.0                        1458.0           136104.0   \n",
       "2          1.0         2.0                        1421.0            35606.0   \n",
       "3          3.0         4.0                        2541.0           880456.0   \n",
       "4          2.0         3.0                        1650.0           614000.0   \n",
       "5          1.0         2.0                         693.0           274237.0   \n",
       "\n",
       "   more_than_two_bath  \n",
       "1                   0  \n",
       "2                   0  \n",
       "3                   1  \n",
       "4                   0  \n",
       "5                   0  "
      ]
     },
     "execution_count": 6,
     "metadata": {},
     "output_type": "execute_result"
    }
   ],
   "source": [
    "df.head()"
   ]
  },
  {
   "cell_type": "markdown",
   "metadata": {},
   "source": [
    "#  Exploration\n",
    "---\n",
    "- Discover insights in data with visuals.\n",
    "- [Hypothesis Testing](#hypothesis-testing)\n",
    "\n",
    "> Before or after hypothesis tests?\n",
    "> - Recursive Feature Elimination\n",
    "> - SelectKBest"
   ]
  },
  {
   "cell_type": "code",
   "execution_count": 7,
   "metadata": {},
   "outputs": [],
   "source": [
    "X_train, y_train, X_validate, y_validate, X_test, y_test = wrangle_data(df, 'taxvaluedollarcnt', modeling=False)"
   ]
  },
  {
   "cell_type": "code",
   "execution_count": 8,
   "metadata": {},
   "outputs": [],
   "source": [
    "train = pd.concat([X_train, y_train], axis=1)"
   ]
  },
  {
   "cell_type": "code",
   "execution_count": 9,
   "metadata": {},
   "outputs": [
    {
     "data": {
      "text/html": [
       "<div>\n",
       "<style scoped>\n",
       "    .dataframe tbody tr th:only-of-type {\n",
       "        vertical-align: middle;\n",
       "    }\n",
       "\n",
       "    .dataframe tbody tr th {\n",
       "        vertical-align: top;\n",
       "    }\n",
       "\n",
       "    .dataframe thead th {\n",
       "        text-align: right;\n",
       "    }\n",
       "</style>\n",
       "<table border=\"1\" class=\"dataframe\">\n",
       "  <thead>\n",
       "    <tr style=\"text-align: right;\">\n",
       "      <th></th>\n",
       "      <th>bathroomcnt</th>\n",
       "      <th>bedroomcnt</th>\n",
       "      <th>calculatedfinishedsquarefeet</th>\n",
       "      <th>more_than_two_bath</th>\n",
       "    </tr>\n",
       "  </thead>\n",
       "  <tbody>\n",
       "    <tr>\n",
       "      <th>11869</th>\n",
       "      <td>2.0</td>\n",
       "      <td>3.0</td>\n",
       "      <td>1188.0</td>\n",
       "      <td>0</td>\n",
       "    </tr>\n",
       "    <tr>\n",
       "      <th>2322</th>\n",
       "      <td>2.0</td>\n",
       "      <td>4.0</td>\n",
       "      <td>1488.0</td>\n",
       "      <td>0</td>\n",
       "    </tr>\n",
       "    <tr>\n",
       "      <th>1154</th>\n",
       "      <td>2.0</td>\n",
       "      <td>3.0</td>\n",
       "      <td>1030.0</td>\n",
       "      <td>0</td>\n",
       "    </tr>\n",
       "    <tr>\n",
       "      <th>9048</th>\n",
       "      <td>4.0</td>\n",
       "      <td>5.0</td>\n",
       "      <td>3600.0</td>\n",
       "      <td>1</td>\n",
       "    </tr>\n",
       "    <tr>\n",
       "      <th>11513</th>\n",
       "      <td>2.0</td>\n",
       "      <td>3.0</td>\n",
       "      <td>1452.0</td>\n",
       "      <td>0</td>\n",
       "    </tr>\n",
       "  </tbody>\n",
       "</table>\n",
       "</div>"
      ],
      "text/plain": [
       "       bathroomcnt  bedroomcnt  calculatedfinishedsquarefeet  \\\n",
       "11869          2.0         3.0                        1188.0   \n",
       "2322           2.0         4.0                        1488.0   \n",
       "1154           2.0         3.0                        1030.0   \n",
       "9048           4.0         5.0                        3600.0   \n",
       "11513          2.0         3.0                        1452.0   \n",
       "\n",
       "       more_than_two_bath  \n",
       "11869                   0  \n",
       "2322                    0  \n",
       "1154                    0  \n",
       "9048                    1  \n",
       "11513                   0  "
      ]
     },
     "execution_count": 9,
     "metadata": {},
     "output_type": "execute_result"
    }
   ],
   "source": [
    "X_train.head()"
   ]
  },
  {
   "cell_type": "code",
   "execution_count": 10,
   "metadata": {},
   "outputs": [
    {
     "data": {
      "text/html": [
       "<div>\n",
       "<style scoped>\n",
       "    .dataframe tbody tr th:only-of-type {\n",
       "        vertical-align: middle;\n",
       "    }\n",
       "\n",
       "    .dataframe tbody tr th {\n",
       "        vertical-align: top;\n",
       "    }\n",
       "\n",
       "    .dataframe thead th {\n",
       "        text-align: right;\n",
       "    }\n",
       "</style>\n",
       "<table border=\"1\" class=\"dataframe\">\n",
       "  <thead>\n",
       "    <tr style=\"text-align: right;\">\n",
       "      <th></th>\n",
       "      <th>bathroomcnt</th>\n",
       "      <th>bedroomcnt</th>\n",
       "      <th>calculatedfinishedsquarefeet</th>\n",
       "      <th>more_than_two_bath</th>\n",
       "      <th>taxvaluedollarcnt</th>\n",
       "    </tr>\n",
       "  </thead>\n",
       "  <tbody>\n",
       "    <tr>\n",
       "      <th>11869</th>\n",
       "      <td>2.0</td>\n",
       "      <td>3.0</td>\n",
       "      <td>1188.0</td>\n",
       "      <td>0</td>\n",
       "      <td>440000.0</td>\n",
       "    </tr>\n",
       "    <tr>\n",
       "      <th>2322</th>\n",
       "      <td>2.0</td>\n",
       "      <td>4.0</td>\n",
       "      <td>1488.0</td>\n",
       "      <td>0</td>\n",
       "      <td>515351.0</td>\n",
       "    </tr>\n",
       "    <tr>\n",
       "      <th>1154</th>\n",
       "      <td>2.0</td>\n",
       "      <td>3.0</td>\n",
       "      <td>1030.0</td>\n",
       "      <td>0</td>\n",
       "      <td>186555.0</td>\n",
       "    </tr>\n",
       "    <tr>\n",
       "      <th>9048</th>\n",
       "      <td>4.0</td>\n",
       "      <td>5.0</td>\n",
       "      <td>3600.0</td>\n",
       "      <td>1</td>\n",
       "      <td>344419.0</td>\n",
       "    </tr>\n",
       "    <tr>\n",
       "      <th>11513</th>\n",
       "      <td>2.0</td>\n",
       "      <td>3.0</td>\n",
       "      <td>1452.0</td>\n",
       "      <td>0</td>\n",
       "      <td>285000.0</td>\n",
       "    </tr>\n",
       "  </tbody>\n",
       "</table>\n",
       "</div>"
      ],
      "text/plain": [
       "       bathroomcnt  bedroomcnt  calculatedfinishedsquarefeet  \\\n",
       "11869          2.0         3.0                        1188.0   \n",
       "2322           2.0         4.0                        1488.0   \n",
       "1154           2.0         3.0                        1030.0   \n",
       "9048           4.0         5.0                        3600.0   \n",
       "11513          2.0         3.0                        1452.0   \n",
       "\n",
       "       more_than_two_bath  taxvaluedollarcnt  \n",
       "11869                   0           440000.0  \n",
       "2322                    0           515351.0  \n",
       "1154                    0           186555.0  \n",
       "9048                    1           344419.0  \n",
       "11513                   0           285000.0  "
      ]
     },
     "execution_count": 10,
     "metadata": {},
     "output_type": "execute_result"
    }
   ],
   "source": [
    "train.head()"
   ]
  },
  {
   "cell_type": "code",
   "execution_count": 11,
   "metadata": {},
   "outputs": [
    {
     "data": {
      "image/png": "[encoded data removed]",
      "text/plain": [
       "<Figure size 432x288 with 2 Axes>"
      ]
     },
     "metadata": {
      "needs_background": "light"
     },
     "output_type": "display_data"
    }
   ],
   "source": [
    "sns.heatmap(train.corr(), annot=True, cmap='coolwarm');"
   ]
  },
  {
   "cell_type": "markdown",
   "metadata": {},
   "source": [
    "## Hypothesis Testing\n",
    "\n",
    "### Correlation tests\n",
    "We'll perform correlation tests using bathroom count and calculated square footage. Let's compare these features with tax value dollar count to see if their is significant.\n",
    "\n",
    "> Note: Let's test for collinearity between bedrooms and finished squared feet.\n",
    "<br>\n",
    "\n",
    "#### Number of Bathrooms\n",
    "\n",
    "$H0$ - There is no relationship between taxvaluedollarcnt and bathroomcnt.\n",
    "\n",
    "$H1$ - There is a relationship between taxvaluedollarcnt and bathroomcnt."
   ]
  },
  {
   "cell_type": "code",
   "execution_count": 12,
   "metadata": {},
   "outputs": [
    {
     "name": "stdout",
     "output_type": "stream",
     "text": [
      "Pearsons Correlation Coefficient: 0.53\n",
      "P-Value: 0.00\n",
      "alpha: 0.05\n",
      "\n",
      "P-Value is less than alpha:\n",
      "Reject HO (for H1). There is a linear relationship between tax value of homes and number of bathrooms.\n"
     ]
    }
   ],
   "source": [
    "confidence_interval = 0.95\n",
    "alpha = 1 - confidence_interval \n",
    "\n",
    "r, p = stats.pearsonr(train['bathroomcnt'], train['taxvaluedollarcnt'])\n",
    "\n",
    "print((\"Pearsons Correlation Coefficient: {:.2f}\" \\\n",
    "      \"\\nP-Value: {:.2f}\\nalpha: {:.2f}\\n\").format(r, p, alpha))\n",
    "\n",
    "if p < alpha:\n",
    "    print(\"P-Value is less than alpha:\")\n",
    "    print('Reject HO (for H1). There is a linear' \\\n",
    "          ' relationship between tax value of homes and number of bathrooms.')\n",
    "else:\n",
    "    print('Fail to reject H0. There is no linear' \\\n",
    "          'relationship between tax value of homes and number of bathrooms.')"
   ]
  },
  {
   "cell_type": "code",
   "execution_count": 13,
   "metadata": {},
   "outputs": [],
   "source": [
    "# visual 1"
   ]
  },
  {
   "cell_type": "markdown",
   "metadata": {},
   "source": [
    "#### Finished Square Feet\n",
    "\n",
    "$H0$ There is no relationship between square feet and home value.\n",
    "\n",
    "$H1$ There is a relationship between square feet and home value."
   ]
  },
  {
   "cell_type": "code",
   "execution_count": 14,
   "metadata": {},
   "outputs": [
    {
     "name": "stdout",
     "output_type": "stream",
     "text": [
      "Pearsons Correlation Coefficient: 0.61\n",
      "P-Value: 0.00\n",
      "alpha: 0.05\n",
      "\n",
      "P-Value is less than alpha:\n",
      "Reject HO (for H1). There is a linear relationship between square feet and home value.\n"
     ]
    }
   ],
   "source": [
    "confidence_interval = 0.95\n",
    "alpha = 1 - confidence_interval \n",
    "\n",
    "r, p = stats.pearsonr(train['calculatedfinishedsquarefeet'], train['taxvaluedollarcnt'])\n",
    "\n",
    "print((\"Pearsons Correlation Coefficient: {:.2f}\" \\\n",
    "      \"\\nP-Value: {:.2f}\\nalpha: {:.2f}\\n\").format(r, p, alpha))\n",
    "\n",
    "if p < alpha:\n",
    "    print(\"P-Value is less than alpha:\")\n",
    "    print('Reject HO (for H1). There is a linear' \\\n",
    "          ' relationship between square feet and home value.')\n",
    "else:\n",
    "    print('Fail to reject H0. There is no linear' \\\n",
    "          'relationship between square feet and home value.')"
   ]
  },
  {
   "cell_type": "code",
   "execution_count": 15,
   "metadata": {},
   "outputs": [],
   "source": [
    "# visual 2"
   ]
  },
  {
   "cell_type": "markdown",
   "metadata": {},
   "source": [
    "### T-test\n",
    "One Tailed t-test\n",
    "\n",
    "#### Number of Bathrooms: More than 2 bathrooms"
   ]
  },
  {
   "cell_type": "markdown",
   "metadata": {},
   "source": [
    "$H0$ The average price of homes with more than two bathrooms is equal to the average price of homes with two or less bathrooms.\n",
    "\n",
    "$H1$ Homes with more than two bathrooms have higher than average tax dollar count."
   ]
  },
  {
   "cell_type": "code",
   "execution_count": 16,
   "metadata": {},
   "outputs": [],
   "source": [
    "df_two_or_less_restrooms = train[train.bathroomcnt <= 2]\n",
    "df_greater_than_two_restrooms = train[train.bathroomcnt > 2]"
   ]
  },
  {
   "cell_type": "code",
   "execution_count": 17,
   "metadata": {},
   "outputs": [
    {
     "name": "stdout",
     "output_type": "stream",
     "text": [
      "T-Statistic: 34.26\n",
      "P-Value: 0.00\n",
      "alpha: 0.05\n",
      "\n",
      "P-Value is less than alpha:\n",
      "Reject HO (for H1). Homes with more than two bathrooms have higher than average tax dollar count.\n"
     ]
    }
   ],
   "source": [
    "# clean this section\n",
    "a = df_two_or_less_restrooms.taxvaluedollarcnt.mean()\n",
    "\n",
    "b = df_greater_than_two_restrooms.taxvaluedollarcnt.mean()\n",
    "\n",
    "t, p = stats.ttest_ind(df_greater_than_two_restrooms.taxvaluedollarcnt,\n",
    "                df_two_or_less_restrooms.taxvaluedollarcnt)\n",
    "\n",
    "p = p/2\n",
    "\n",
    "# Evaluate the significance of the p-value against alpha.\n",
    "print(\"T-Statistic: {:.2f}\\nP-Value: {:.2f}\\nalpha: {:.2f}\\n\".format(t, p, alpha))\n",
    "\n",
    "# Determine the appropriate Hypothesis.\n",
    "if p < alpha:\n",
    "    print(\"P-Value is less than alpha:\")\n",
    "    print('Reject HO (for H1).' \\\n",
    "          ' Homes with more than two bathrooms have higher than average tax dollar count.')\n",
    "else:\n",
    "    print('Fail to reject H0. The average price of homes with more than two bathrooms is equal' \\\n",
    "          ' to the average price of homes with two or less bathrooms.')"
   ]
  },
  {
   "cell_type": "markdown",
   "metadata": {},
   "source": [
    "# Modeling\n",
    "---"
   ]
  },
  {
   "cell_type": "code",
   "execution_count": 62,
   "metadata": {},
   "outputs": [],
   "source": [
    "# create the Zillow DataFrame\n",
    "df = prepare_zillow_mvp()\n",
    "\n",
    "# Create model data frames for each feature set we will use for various models\n",
    "model_1_data = df.drop(columns='more_than_two_bath')\n",
    "model_2_data = df[['more_than_two_bath','taxvaluedollarcnt']]\n",
    "model_3_data = df[['calculatedfinishedsquarefeet', 'more_than_two_bath', 'taxvaluedollarcnt']]"
   ]
  },
  {
   "cell_type": "code",
   "execution_count": 63,
   "metadata": {},
   "outputs": [
    {
     "name": "stdout",
     "output_type": "stream",
     "text": [
      "Baseline Model\n",
      "------------------------\n",
      "Basline Model RMSE: 696954.15\n",
      "Basline R^2: 0.00%\n"
     ]
    }
   ],
   "source": [
    "# Split model 1 into X_train, y_train, X_validate, y_validate, X_test, y_test\n",
    "\n",
    "X_train, y_train, X_validate, y_validate, X_test, y_test = wrangle_data(model_1_data, 'taxvaluedollarcnt', modeling=True)\n",
    "\n",
    "df_model_evals = pd.DataFrame()\n",
    "\n",
    "df_model_evals['y'] = y_train\n",
    "df_model_evals['baseline_yhat'] = y_train.mean()\n",
    "\n",
    "rmse_poly = sqrt(mean_squared_error(df_model_evals.y, df_model_evals.baseline_yhat))\n",
    "rsquared_poly = explained_variance_score(y_train, df_model_evals.baseline_yhat)\n",
    "\n",
    "print(\"Baseline Model\")\n",
    "print('-' * 24)\n",
    "print(f\"Basline Model RMSE: {rmse_poly:.2f}\")\n",
    "print(f\"Basline R^2: {rsquared_poly:.2%}\")\n"
   ]
  },
  {
   "cell_type": "code",
   "execution_count": 64,
   "metadata": {},
   "outputs": [
    {
     "data": {
      "text/html": [
       "<div>\n",
       "<style scoped>\n",
       "    .dataframe tbody tr th:only-of-type {\n",
       "        vertical-align: middle;\n",
       "    }\n",
       "\n",
       "    .dataframe tbody tr th {\n",
       "        vertical-align: top;\n",
       "    }\n",
       "\n",
       "    .dataframe thead th {\n",
       "        text-align: right;\n",
       "    }\n",
       "</style>\n",
       "<table border=\"1\" class=\"dataframe\">\n",
       "  <thead>\n",
       "    <tr style=\"text-align: right;\">\n",
       "      <th></th>\n",
       "      <th>bathroomcnt_scaled</th>\n",
       "      <th>bedroomcnt_scaled</th>\n",
       "      <th>calculatedfinishedsquarefeet_scaled</th>\n",
       "    </tr>\n",
       "  </thead>\n",
       "  <tbody>\n",
       "    <tr>\n",
       "      <th>11869</th>\n",
       "      <td>0.1</td>\n",
       "      <td>0.250000</td>\n",
       "      <td>0.062547</td>\n",
       "    </tr>\n",
       "    <tr>\n",
       "      <th>2322</th>\n",
       "      <td>0.1</td>\n",
       "      <td>0.333333</td>\n",
       "      <td>0.085209</td>\n",
       "    </tr>\n",
       "    <tr>\n",
       "      <th>1154</th>\n",
       "      <td>0.1</td>\n",
       "      <td>0.250000</td>\n",
       "      <td>0.050612</td>\n",
       "    </tr>\n",
       "    <tr>\n",
       "      <th>9048</th>\n",
       "      <td>0.3</td>\n",
       "      <td>0.416667</td>\n",
       "      <td>0.244750</td>\n",
       "    </tr>\n",
       "    <tr>\n",
       "      <th>11513</th>\n",
       "      <td>0.1</td>\n",
       "      <td>0.250000</td>\n",
       "      <td>0.082490</td>\n",
       "    </tr>\n",
       "  </tbody>\n",
       "</table>\n",
       "</div>"
      ],
      "text/plain": [
       "       bathroomcnt_scaled  bedroomcnt_scaled  \\\n",
       "11869                 0.1           0.250000   \n",
       "2322                  0.1           0.333333   \n",
       "1154                  0.1           0.250000   \n",
       "9048                  0.3           0.416667   \n",
       "11513                 0.1           0.250000   \n",
       "\n",
       "       calculatedfinishedsquarefeet_scaled  \n",
       "11869                             0.062547  \n",
       "2322                              0.085209  \n",
       "1154                              0.050612  \n",
       "9048                              0.244750  \n",
       "11513                             0.082490  "
      ]
     },
     "execution_count": 64,
     "metadata": {},
     "output_type": "execute_result"
    }
   ],
   "source": [
    "X_train.head()"
   ]
  },
  {
   "cell_type": "markdown",
   "metadata": {},
   "source": [
    "## Polynomial Model: Train Set"
   ]
  },
  {
   "cell_type": "code",
   "execution_count": 65,
   "metadata": {},
   "outputs": [
    {
     "data": {
      "text/plain": [
       "Ridge(alpha=0.1)"
      ]
     },
     "execution_count": 65,
     "metadata": {},
     "output_type": "execute_result"
    }
   ],
   "source": [
    "# Create a polynomial linear regression\n",
    "poly = PolynomialFeatures(3)\n",
    "\n",
    "X_train_poly = poly.fit_transform(X_train)\n",
    "X_validate_poly = poly.transform(X_validate)\n",
    "X_test_poly = poly.transform(X_test)\n",
    "\n",
    "lm_poly = Ridge(alpha=.1)\n",
    "lm_poly.fit(X_train_poly, y_train)"
   ]
  },
  {
   "cell_type": "code",
   "execution_count": 66,
   "metadata": {},
   "outputs": [
    {
     "name": "stdout",
     "output_type": "stream",
     "text": [
      "Train Set\n",
      "Polynomial : degree=3\n",
      "------------------------\n",
      "Polynomial Model RMSE: 510637.22\n",
      "Polynomial R^2: 46.32%\n"
     ]
    }
   ],
   "source": [
    "# Assign predictions to a dataframe for visual aid\n",
    "df_model_evals['poly_1_yhat'] = lm_poly.predict(X_train_poly)\n",
    "\n",
    "# Calculate predictions and residuals for poly model\n",
    "yhat_train_poly = lm_poly.predict(X_train_poly)\n",
    "poly_train_residuals = yhat_train_poly - y_train\n",
    "\n",
    "# Calculate evaluation metrics\n",
    "rmse_poly = sqrt(mean_squared_error(y_train, yhat_train_poly))\n",
    "rsquared_poly = explained_variance_score(y_train, yhat_train_poly)\n",
    "\n",
    "print(\"Train Set\\nPolynomial : degree=3\")\n",
    "print('-' * 24)\n",
    "print(f\"Polynomial Model RMSE: {rmse_poly:.2f}\")\n",
    "print(f\"Polynomial R^2: {rsquared_poly:.2%}\")"
   ]
  },
  {
   "cell_type": "code",
   "execution_count": 67,
   "metadata": {},
   "outputs": [
    {
     "data": {
      "text/plain": [
       "['bathroomcnt_scaled',\n",
       " 'bedroomcnt_scaled',\n",
       " 'calculatedfinishedsquarefeet_scaled']"
      ]
     },
     "execution_count": 67,
     "metadata": {},
     "output_type": "execute_result"
    }
   ],
   "source": [
    "X_train.columns.tolist()"
   ]
  },
  {
   "cell_type": "code",
   "execution_count": 76,
   "metadata": {},
   "outputs": [
    {
     "data": {
      "text/html": [
       "<div>\n",
       "<style scoped>\n",
       "    .dataframe tbody tr th:only-of-type {\n",
       "        vertical-align: middle;\n",
       "    }\n",
       "\n",
       "    .dataframe tbody tr th {\n",
       "        vertical-align: top;\n",
       "    }\n",
       "\n",
       "    .dataframe thead th {\n",
       "        text-align: right;\n",
       "    }\n",
       "</style>\n",
       "<table border=\"1\" class=\"dataframe\">\n",
       "  <thead>\n",
       "    <tr style=\"text-align: right;\">\n",
       "      <th></th>\n",
       "      <th>0</th>\n",
       "    </tr>\n",
       "  </thead>\n",
       "  <tbody>\n",
       "    <tr>\n",
       "      <th>x0 x1 x2</th>\n",
       "      <td>6.842962e+06</td>\n",
       "    </tr>\n",
       "    <tr>\n",
       "      <th>x1 x2^2</th>\n",
       "      <td>5.199650e+06</td>\n",
       "    </tr>\n",
       "    <tr>\n",
       "      <th>x0^2 x2</th>\n",
       "      <td>4.523359e+06</td>\n",
       "    </tr>\n",
       "    <tr>\n",
       "      <th>x0^2 x1</th>\n",
       "      <td>4.070894e+06</td>\n",
       "    </tr>\n",
       "    <tr>\n",
       "      <th>x0 x2^2</th>\n",
       "      <td>3.889850e+06</td>\n",
       "    </tr>\n",
       "    <tr>\n",
       "      <th>x2</th>\n",
       "      <td>3.586825e+06</td>\n",
       "    </tr>\n",
       "    <tr>\n",
       "      <th>x1^2 x2</th>\n",
       "      <td>1.728909e+06</td>\n",
       "    </tr>\n",
       "    <tr>\n",
       "      <th>x0 x1^2</th>\n",
       "      <td>1.530481e+06</td>\n",
       "    </tr>\n",
       "    <tr>\n",
       "      <th>x0 x2</th>\n",
       "      <td>1.331918e+06</td>\n",
       "    </tr>\n",
       "    <tr>\n",
       "      <th>x0</th>\n",
       "      <td>7.292754e+05</td>\n",
       "    </tr>\n",
       "    <tr>\n",
       "      <th>x1^2</th>\n",
       "      <td>5.079208e+05</td>\n",
       "    </tr>\n",
       "    <tr>\n",
       "      <th>x0^2</th>\n",
       "      <td>6.826055e+04</td>\n",
       "    </tr>\n",
       "    <tr>\n",
       "      <th>1</th>\n",
       "      <td>0.000000e+00</td>\n",
       "    </tr>\n",
       "    <tr>\n",
       "      <th>x0^3</th>\n",
       "      <td>-5.245813e+05</td>\n",
       "    </tr>\n",
       "    <tr>\n",
       "      <th>x1</th>\n",
       "      <td>-7.818235e+05</td>\n",
       "    </tr>\n",
       "    <tr>\n",
       "      <th>x1 x2</th>\n",
       "      <td>-1.265486e+06</td>\n",
       "    </tr>\n",
       "    <tr>\n",
       "      <th>x2^2</th>\n",
       "      <td>-1.649574e+06</td>\n",
       "    </tr>\n",
       "    <tr>\n",
       "      <th>x1^3</th>\n",
       "      <td>-2.652080e+06</td>\n",
       "    </tr>\n",
       "    <tr>\n",
       "      <th>x2^3</th>\n",
       "      <td>-3.626046e+06</td>\n",
       "    </tr>\n",
       "    <tr>\n",
       "      <th>x0 x1</th>\n",
       "      <td>-3.963532e+06</td>\n",
       "    </tr>\n",
       "  </tbody>\n",
       "</table>\n",
       "</div>"
      ],
      "text/plain": [
       "                     0\n",
       "x0 x1 x2  6.842962e+06\n",
       "x1 x2^2   5.199650e+06\n",
       "x0^2 x2   4.523359e+06\n",
       "x0^2 x1   4.070894e+06\n",
       "x0 x2^2   3.889850e+06\n",
       "x2        3.586825e+06\n",
       "x1^2 x2   1.728909e+06\n",
       "x0 x1^2   1.530481e+06\n",
       "x0 x2     1.331918e+06\n",
       "x0        7.292754e+05\n",
       "x1^2      5.079208e+05\n",
       "x0^2      6.826055e+04\n",
       "1         0.000000e+00\n",
       "x0^3     -5.245813e+05\n",
       "x1       -7.818235e+05\n",
       "x1 x2    -1.265486e+06\n",
       "x2^2     -1.649574e+06\n",
       "x1^3     -2.652080e+06\n",
       "x2^3     -3.626046e+06\n",
       "x0 x1    -3.963532e+06"
      ]
     },
     "execution_count": 76,
     "metadata": {},
     "output_type": "execute_result"
    }
   ],
   "source": [
    "pd.DataFrame(lm_poly.coef_, index=poly.get_feature_names()).sort_values(by=0, ascending=False)"
   ]
  },
  {
   "cell_type": "code",
   "execution_count": 49,
   "metadata": {},
   "outputs": [
    {
     "data": {
      "text/html": [
       "<div>\n",
       "<style scoped>\n",
       "    .dataframe tbody tr th:only-of-type {\n",
       "        vertical-align: middle;\n",
       "    }\n",
       "\n",
       "    .dataframe tbody tr th {\n",
       "        vertical-align: top;\n",
       "    }\n",
       "\n",
       "    .dataframe thead th {\n",
       "        text-align: right;\n",
       "    }\n",
       "</style>\n",
       "<table border=\"1\" class=\"dataframe\">\n",
       "  <thead>\n",
       "    <tr style=\"text-align: right;\">\n",
       "      <th></th>\n",
       "      <th>y</th>\n",
       "      <th>baseline_yhat</th>\n",
       "      <th>poly_1_yhat</th>\n",
       "    </tr>\n",
       "  </thead>\n",
       "  <tbody>\n",
       "    <tr>\n",
       "      <th>11869</th>\n",
       "      <td>440000.0</td>\n",
       "      <td>533975.535119</td>\n",
       "      <td>2.905590e+05</td>\n",
       "    </tr>\n",
       "    <tr>\n",
       "      <th>2322</th>\n",
       "      <td>515351.0</td>\n",
       "      <td>533975.535119</td>\n",
       "      <td>2.605545e+05</td>\n",
       "    </tr>\n",
       "    <tr>\n",
       "      <th>1154</th>\n",
       "      <td>186555.0</td>\n",
       "      <td>533975.535119</td>\n",
       "      <td>2.464281e+05</td>\n",
       "    </tr>\n",
       "    <tr>\n",
       "      <th>9048</th>\n",
       "      <td>344419.0</td>\n",
       "      <td>533975.535119</td>\n",
       "      <td>1.064572e+06</td>\n",
       "    </tr>\n",
       "    <tr>\n",
       "      <th>11513</th>\n",
       "      <td>285000.0</td>\n",
       "      <td>533975.535119</td>\n",
       "      <td>3.638709e+05</td>\n",
       "    </tr>\n",
       "  </tbody>\n",
       "</table>\n",
       "</div>"
      ],
      "text/plain": [
       "              y  baseline_yhat   poly_1_yhat\n",
       "11869  440000.0  533975.535119  2.905590e+05\n",
       "2322   515351.0  533975.535119  2.605545e+05\n",
       "1154   186555.0  533975.535119  2.464281e+05\n",
       "9048   344419.0  533975.535119  1.064572e+06\n",
       "11513  285000.0  533975.535119  3.638709e+05"
      ]
     },
     "execution_count": 49,
     "metadata": {},
     "output_type": "execute_result"
    }
   ],
   "source": [
    "# Look at the evals dataframe for peace of mind\n",
    "df_model_evals.head()"
   ]
  },
  {
   "cell_type": "markdown",
   "metadata": {},
   "source": [
    "## Polynomial Model: Validation Set"
   ]
  },
  {
   "cell_type": "code",
   "execution_count": 50,
   "metadata": {},
   "outputs": [
    {
     "name": "stdout",
     "output_type": "stream",
     "text": [
      "Validation Set\n",
      "Polynomial : degree=3\n",
      "------------------------\n",
      "Polynomial Model RMSE: 480727.73\n",
      "Polynomial R^2: 39.05%\n"
     ]
    }
   ],
   "source": [
    "# Calculate predictions and residuals for poly model\n",
    "yhat_validate_poly = lm_poly.predict(X_validate_poly)\n",
    "poly_validate_residuals = yhat_validate_poly - y_validate\n",
    "\n",
    "# Calculate evaluation metrics\n",
    "rmse_validate_poly = sqrt(mean_squared_error(y_validate, yhat_validate_poly))\n",
    "rsquared_validate_poly = explained_variance_score(y_validate, yhat_validate_poly)\n",
    "\n",
    "print(\"Validation Set\\nPolynomial : degree=3\")\n",
    "print('-' * 24)\n",
    "print(f\"Polynomial Model RMSE: {rmse_validate_poly:.2f}\")\n",
    "print(f\"Polynomial R^2: {rsquared_validate_poly:.2%}\")"
   ]
  },
  {
   "cell_type": "code",
   "execution_count": 51,
   "metadata": {},
   "outputs": [
    {
     "name": "stdout",
     "output_type": "stream",
     "text": [
      "Test Set\n",
      "Polynomial : degree=3\n",
      "------------------------\n",
      "Polynomial Model RMSE: 702469.14\n",
      "Polynomial R^2: 39.34%\n"
     ]
    }
   ],
   "source": [
    "# Calculate predictions and residuals for poly model\n",
    "yhat_test_poly = lm_poly.predict(X_test_poly)\n",
    "poly_test_residuals = yhat_test_poly - y_test\n",
    "\n",
    "# Calculate evaluation metrics\n",
    "rmse_test_poly = sqrt(mean_squared_error(y_test, yhat_test_poly))\n",
    "rsquared_test_poly = explained_variance_score(y_test, yhat_test_poly)\n",
    "\n",
    "print(\"Test Set\\nPolynomial : degree=3\")\n",
    "print('-' * 24)\n",
    "print(f\"Polynomial Model RMSE: {rmse_test_poly:.2f}\")\n",
    "print(f\"Polynomial R^2: {rsquared_test_poly:.2%}\")"
   ]
  },
  {
   "cell_type": "markdown",
   "metadata": {},
   "source": [
    "# Summary\n",
    "---\n",
    "Working together we discovered for our MVP that the features that appear to drive home value as measure by taxvaluedollarcnt are bathroomcnt, bedroomcnt, calculatedfinishedsquarefeet. We discovered this by going through an iterative, manual process of feature selection using a Pearson's R correlation test to select the top two features of bathroomcnt and calculatedfinishedsquarefeet and using industry knowledge to also include calculatedfinishedsquarefeet and homes having more than 2 bathrooms. After testing a few models, the model that performed the best was our model1 data (bathroomcnt, bedroomcnt, calculatedfinishedsquarefeet, taxvaluedollarcnt) and using a Polynomial-features algorithm. The features in this model explain 38% of the variance.\n",
    "\n",
    "For our next iteration we will look at additional features while controlling for outliers."
   ]
  }
 ],
 "metadata": {
  "kernelspec": {
   "display_name": "Python 3",
   "language": "python",
   "name": "python3"
  },
  "language_info": {
   "codemirror_mode": {
    "name": "ipython",
    "version": 3
   },
   "file_extension": ".py",
   "mimetype": "text/x-python",
   "name": "python",
   "nbconvert_exporter": "python",
   "pygments_lexer": "ipython3",
   "version": "3.7.6"
  }
 },
 "nbformat": 4,
 "nbformat_minor": 4
}
