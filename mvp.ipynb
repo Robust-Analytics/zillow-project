{
 "cells": [
  {
   "cell_type": "markdown",
   "metadata": {},
   "source": [
    "# Zillow Project\n",
    "---\n",
    "## __Robust Analytics™__\n",
    "\n",
    "__Anthony Straine__<br>\n",
    "Junior Data Scientist\n",
    "\n",
    "__Christopher Ortiz__<br>\n",
    "Junior Data Scientist\n",
    "\n",
    "\n",
    "## Summary\n",
    "Working together we discovered for our MVP that the features that appear to drive home value as measure by taxvaluedollarcnt are bathroomcnt, bedroomcnt, calculatedfinishedsquarefeet. We discovered this by going through an iterative, manual process of feature selection using a Pearson's R correlation test to select the top two features of bathroomcnt and calculatedfinishedsquarefeet and using industry knowledge to also include calculatedfinishedsquarefeet and homes having more than 2 bathrooms. After testing a few models, the model that performed the best was our model1 data (bathroomcnt, bedroomcnt, calculatedfinishedsquarefeet, taxvaluedollarcnt) and using a Polynomial-features algorithm. The features in this model explain 47% of the variance.\n",
    "\n",
    "For our next iteration we will look at additional features while controlling for outliers.\n",
    "\n",
    "\n",
    "## Content\n",
    "- [Acquisition](#acquisition)\n",
    "- [Preparation](#preparation)\n",
    "- [Exploration](#exploration)\n",
    "- [Modeling](#modeling)\n",
    "- [Summary](#summary)"
   ]
  },
  {
   "cell_type": "code",
   "execution_count": 1,
   "metadata": {},
   "outputs": [],
   "source": [
    "import numpy as np\n",
    "import pandas as pd\n",
    "import matplotlib.pyplot as plt\n",
    "import seaborn as sns\n",
    "\n",
    "from math import sqrt\n",
    "from statsmodels.formula.api import ols\n",
    "from sklearn.model_selection import train_test_split\n",
    "from sklearn.metrics import mean_squared_error, explained_variance_score\n",
    "from sklearn.linear_model import LinearRegression, LassoLars, TweedieRegressor\n",
    "from sklearn.preprocessing import PolynomialFeatures\n",
    "from scipy import stats\n",
    "\n",
    "from sklearn.feature_selection import RFE\n",
    "from wrangle import wrangle_data\n",
    "from prepare import prepare_zillow_mvp\n",
    "import warnings\n",
    "warnings.filterwarnings(\"ignore\")"
   ]
  },
  {
   "cell_type": "markdown",
   "metadata": {},
   "source": [
    "# Acquisition\n",
    "---"
   ]
  },
  {
   "cell_type": "code",
   "execution_count": null,
   "metadata": {},
   "outputs": [],
   "source": []
  },
  {
   "cell_type": "markdown",
   "metadata": {},
   "source": [
    "#  Preparation\n",
    "---"
   ]
  },
  {
   "cell_type": "code",
   "execution_count": null,
   "metadata": {},
   "outputs": [],
   "source": []
  },
  {
   "cell_type": "markdown",
   "metadata": {},
   "source": [
    "#  Exploration\n",
    "---\n",
    "- Discover insights in data with visuals.\n",
    "- [Hypothesis Testing](#hypothesis-testing)\n",
    "\n",
    "> Before or after hypothesis tests?\n",
    "> - Recursive Feature Elimination\n",
    "> - SelectKBest"
   ]
  },
  {
   "cell_type": "code",
   "execution_count": 38,
   "metadata": {},
   "outputs": [],
   "source": [
    "df = prepare_zillow_mvp()"
   ]
  },
  {
   "cell_type": "code",
   "execution_count": 39,
   "metadata": {},
   "outputs": [],
   "source": [
    "X_train, y_train, X_validate, y_validate, X_test, y_test = wrangle_data(df, 'taxvaluedollarcnt', modeling=False)"
   ]
  },
  {
   "cell_type": "code",
   "execution_count": 40,
   "metadata": {},
   "outputs": [],
   "source": [
    "train = pd.concat([X_train, y_train], axis=1)"
   ]
  },
  {
   "cell_type": "code",
   "execution_count": 41,
   "metadata": {},
   "outputs": [
    {
     "data": {
      "text/html": [
       "<div>\n",
       "<style scoped>\n",
       "    .dataframe tbody tr th:only-of-type {\n",
       "        vertical-align: middle;\n",
       "    }\n",
       "\n",
       "    .dataframe tbody tr th {\n",
       "        vertical-align: top;\n",
       "    }\n",
       "\n",
       "    .dataframe thead th {\n",
       "        text-align: right;\n",
       "    }\n",
       "</style>\n",
       "<table border=\"1\" class=\"dataframe\">\n",
       "  <thead>\n",
       "    <tr style=\"text-align: right;\">\n",
       "      <th></th>\n",
       "      <th>bathroomcnt</th>\n",
       "      <th>bedroomcnt</th>\n",
       "      <th>calculatedfinishedsquarefeet</th>\n",
       "      <th>more_than_two_bath</th>\n",
       "    </tr>\n",
       "  </thead>\n",
       "  <tbody>\n",
       "    <tr>\n",
       "      <th>1711167</th>\n",
       "      <td>2.0</td>\n",
       "      <td>3.0</td>\n",
       "      <td>1248.0</td>\n",
       "      <td>0</td>\n",
       "    </tr>\n",
       "    <tr>\n",
       "      <th>2312067</th>\n",
       "      <td>2.5</td>\n",
       "      <td>4.0</td>\n",
       "      <td>2269.0</td>\n",
       "      <td>1</td>\n",
       "    </tr>\n",
       "    <tr>\n",
       "      <th>1020698</th>\n",
       "      <td>2.0</td>\n",
       "      <td>2.0</td>\n",
       "      <td>980.0</td>\n",
       "      <td>0</td>\n",
       "    </tr>\n",
       "    <tr>\n",
       "      <th>2089824</th>\n",
       "      <td>2.0</td>\n",
       "      <td>2.0</td>\n",
       "      <td>1215.0</td>\n",
       "      <td>0</td>\n",
       "    </tr>\n",
       "    <tr>\n",
       "      <th>2218083</th>\n",
       "      <td>3.0</td>\n",
       "      <td>3.0</td>\n",
       "      <td>1771.0</td>\n",
       "      <td>1</td>\n",
       "    </tr>\n",
       "  </tbody>\n",
       "</table>\n",
       "</div>"
      ],
      "text/plain": [
       "         bathroomcnt  bedroomcnt  calculatedfinishedsquarefeet  \\\n",
       "1711167          2.0         3.0                        1248.0   \n",
       "2312067          2.5         4.0                        2269.0   \n",
       "1020698          2.0         2.0                         980.0   \n",
       "2089824          2.0         2.0                        1215.0   \n",
       "2218083          3.0         3.0                        1771.0   \n",
       "\n",
       "         more_than_two_bath  \n",
       "1711167                   0  \n",
       "2312067                   1  \n",
       "1020698                   0  \n",
       "2089824                   0  \n",
       "2218083                   1  "
      ]
     },
     "execution_count": 41,
     "metadata": {},
     "output_type": "execute_result"
    }
   ],
   "source": [
    "X_train.head()"
   ]
  },
  {
   "cell_type": "code",
   "execution_count": 42,
   "metadata": {},
   "outputs": [
    {
     "data": {
      "text/html": [
       "<div>\n",
       "<style scoped>\n",
       "    .dataframe tbody tr th:only-of-type {\n",
       "        vertical-align: middle;\n",
       "    }\n",
       "\n",
       "    .dataframe tbody tr th {\n",
       "        vertical-align: top;\n",
       "    }\n",
       "\n",
       "    .dataframe thead th {\n",
       "        text-align: right;\n",
       "    }\n",
       "</style>\n",
       "<table border=\"1\" class=\"dataframe\">\n",
       "  <thead>\n",
       "    <tr style=\"text-align: right;\">\n",
       "      <th></th>\n",
       "      <th>bathroomcnt</th>\n",
       "      <th>bedroomcnt</th>\n",
       "      <th>calculatedfinishedsquarefeet</th>\n",
       "      <th>more_than_two_bath</th>\n",
       "      <th>taxvaluedollarcnt</th>\n",
       "    </tr>\n",
       "  </thead>\n",
       "  <tbody>\n",
       "    <tr>\n",
       "      <th>1711167</th>\n",
       "      <td>2.0</td>\n",
       "      <td>3.0</td>\n",
       "      <td>1248.0</td>\n",
       "      <td>0</td>\n",
       "      <td>396962.0</td>\n",
       "    </tr>\n",
       "    <tr>\n",
       "      <th>2312067</th>\n",
       "      <td>2.5</td>\n",
       "      <td>4.0</td>\n",
       "      <td>2269.0</td>\n",
       "      <td>1</td>\n",
       "      <td>630000.0</td>\n",
       "    </tr>\n",
       "    <tr>\n",
       "      <th>1020698</th>\n",
       "      <td>2.0</td>\n",
       "      <td>2.0</td>\n",
       "      <td>980.0</td>\n",
       "      <td>0</td>\n",
       "      <td>177856.0</td>\n",
       "    </tr>\n",
       "    <tr>\n",
       "      <th>2089824</th>\n",
       "      <td>2.0</td>\n",
       "      <td>2.0</td>\n",
       "      <td>1215.0</td>\n",
       "      <td>0</td>\n",
       "      <td>524893.0</td>\n",
       "    </tr>\n",
       "    <tr>\n",
       "      <th>2218083</th>\n",
       "      <td>3.0</td>\n",
       "      <td>3.0</td>\n",
       "      <td>1771.0</td>\n",
       "      <td>1</td>\n",
       "      <td>96286.0</td>\n",
       "    </tr>\n",
       "  </tbody>\n",
       "</table>\n",
       "</div>"
      ],
      "text/plain": [
       "         bathroomcnt  bedroomcnt  calculatedfinishedsquarefeet  \\\n",
       "1711167          2.0         3.0                        1248.0   \n",
       "2312067          2.5         4.0                        2269.0   \n",
       "1020698          2.0         2.0                         980.0   \n",
       "2089824          2.0         2.0                        1215.0   \n",
       "2218083          3.0         3.0                        1771.0   \n",
       "\n",
       "         more_than_two_bath  taxvaluedollarcnt  \n",
       "1711167                   0           396962.0  \n",
       "2312067                   1           630000.0  \n",
       "1020698                   0           177856.0  \n",
       "2089824                   0           524893.0  \n",
       "2218083                   1            96286.0  "
      ]
     },
     "execution_count": 42,
     "metadata": {},
     "output_type": "execute_result"
    }
   ],
   "source": [
    "train.head()"
   ]
  },
  {
   "cell_type": "code",
   "execution_count": 43,
   "metadata": {},
   "outputs": [
    {
     "data": {
      "image/png": "[encoded data removed]",
      "text/plain": [
       "<Figure size 432x288 with 2 Axes>"
      ]
     },
     "metadata": {
      "needs_background": "light"
     },
     "output_type": "display_data"
    }
   ],
   "source": [
    "sns.heatmap(train.corr(), annot=True, cmap='coolwarm');"
   ]
  },
  {
   "cell_type": "markdown",
   "metadata": {},
   "source": [
    "## Hypothesis Testing\n",
    "\n",
    "### Correlation tests\n",
    "We'll perform correlation tests using bathroom count and calculated square footage. Let's compare these features with tax value dollar count to see if their is significant.\n",
    "\n",
    "> Note: Let's test for collinearity between bedrooms and finished squared feet.\n",
    "<br>\n",
    "\n",
    "#### Number of Bathrooms\n",
    "\n",
    "$H0$ - There is no relationship between taxvaluedollarcnt and bathroomcnt.\n",
    "\n",
    "$H1$ - There is a relationship between taxvaluedollarcnt and bathroomcnt."
   ]
  },
  {
   "cell_type": "code",
   "execution_count": 50,
   "metadata": {},
   "outputs": [
    {
     "name": "stdout",
     "output_type": "stream",
     "text": [
      "Pearsons Correlation Coefficient: 0.51\n",
      "P-Value: 0.00\n",
      "alpha: 0.05\n",
      "\n",
      "P-Value is less than alpha:\n",
      "Reject HO (for H1). There is a linear relationship between tax value of homes and number of bathrooms.\n"
     ]
    }
   ],
   "source": [
    "a = .05\n",
    "r, p = stats.pearsonr(train['bathroomcnt'], train['taxvaluedollarcnt'])\n",
    "\n",
    "print((\"Pearsons Correlation Coefficient: {:.2f}\" \\\n",
    "      \"\\nP-Value: {:.2f}\\nalpha: {:.2f}\\n\").format(r, p, alpha))\n",
    "\n",
    "if p < alpha:\n",
    "    print(\"P-Value is less than alpha:\")\n",
    "    print('Reject HO (for H1). There is a linear' \\\n",
    "          ' relationship between tax value of homes and number of bathrooms.')\n",
    "else:\n",
    "    print('Fail to reject H0. There is no linear' \\\n",
    "          'relationship between tax value of homes and number of bathrooms.')"
   ]
  },
  {
   "cell_type": "code",
   "execution_count": null,
   "metadata": {},
   "outputs": [],
   "source": [
    "# visual 1"
   ]
  },
  {
   "cell_type": "markdown",
   "metadata": {},
   "source": [
    "#### Finished Square Feet\n",
    "\n",
    "$H0$ There is no relationship between square feet and home value.\n",
    "\n",
    "$H1$ There is a relationship between square feet and home value."
   ]
  },
  {
   "cell_type": "code",
   "execution_count": 49,
   "metadata": {},
   "outputs": [
    {
     "name": "stdout",
     "output_type": "stream",
     "text": [
      "Pearsons Correlation Coefficient: 0.47\n",
      "P-Value: 0.00\n",
      "alpha: 0.05\n",
      "\n",
      "P-Value is less than alpha:\n",
      "Reject HO (for H1). There is a linear relationship between square feet and home value.\n"
     ]
    }
   ],
   "source": [
    "confidence_interval = 0.95\n",
    "alpha = 1 - confidence_interval \n",
    "\n",
    "r, p = stats.pearsonr(train['calculatedfinishedsquarefeet'], train['taxvaluedollarcnt'])\n",
    "\n",
    "print((\"Pearsons Correlation Coefficient: {:.2f}\" \\\n",
    "      \"\\nP-Value: {:.2f}\\nalpha: {:.2f}\\n\").format(r, p, alpha))\n",
    "\n",
    "if p < alpha:\n",
    "    print(\"P-Value is less than alpha:\")\n",
    "    print('Reject HO (for H1). There is a linear' \\\n",
    "          ' relationship between square feet and home value.')\n",
    "else:\n",
    "    print('Fail to reject H0. There is no linear' \\\n",
    "          'relationship between square feet and home value.')"
   ]
  },
  {
   "cell_type": "code",
   "execution_count": 51,
   "metadata": {},
   "outputs": [],
   "source": [
    "# visual 2"
   ]
  },
  {
   "cell_type": "markdown",
   "metadata": {},
   "source": [
    "### T-test\n",
    "One Tailed t-test\n",
    "\n",
    "#### Number of Bathrooms: More than 2 bathrooms"
   ]
  },
  {
   "cell_type": "code",
   "execution_count": null,
   "metadata": {},
   "outputs": [],
   "source": [
    "X_train, y_train, X_validate, y_validate, X_test, y_test = wrangle_data(df, 'taxvaluedollarcnt')\n",
    "train = pd.concat([X_train, y_train], axis=1)\n",
    "\n",
    "train.head()"
   ]
  },
  {
   "cell_type": "markdown",
   "metadata": {},
   "source": [
    "$H0$ The average price of homes with more than two bathrooms is equal to the average price of homes with two or less bathrooms.\n",
    "\n",
    "$H1$ Homes with more than two bathrooms have higher than average tax dollar count."
   ]
  },
  {
   "cell_type": "code",
   "execution_count": null,
   "metadata": {},
   "outputs": [],
   "source": [
    "df_two_or_less_restrooms = train[train.bathroomcnt <= 2]\n",
    "df_greater_than_two_restrooms = train[train.bathroomcnt > 2]"
   ]
  },
  {
   "cell_type": "code",
   "execution_count": 52,
   "metadata": {},
   "outputs": [
    {
     "name": "stdout",
     "output_type": "stream",
     "text": [
      "T-Statistic: 378.93\n",
      "P-Value: 0.00\n",
      "alpha: 0.05\n",
      "\n",
      "P-Value is less than alpha:\n",
      "Reject HO (for H1). Homes with more than two bathrooms have higher than average tax dollar count.\n"
     ]
    }
   ],
   "source": [
    "# clean this section\n",
    "a = df_two_or_less_restrooms.taxvaluedollarcnt.mean()\n",
    "\n",
    "b = df_greater_than_two_restrooms.taxvaluedollarcnt.mean()\n",
    "\n",
    "t, p = stats.ttest_ind(df_greater_than_two_restrooms.taxvaluedollarcnt,\n",
    "                df_two_or_less_restrooms.taxvaluedollarcnt)\n",
    "\n",
    "p = p/2\n",
    "\n",
    "# Evaluate the significance of the p-value against alpha.\n",
    "print(\"T-Statistic: {:.2f}\\nP-Value: {:.2f}\\nalpha: {:.2f}\\n\".format(t, p, alpha))\n",
    "\n",
    "# Determine the appropriate Hypothesis.\n",
    "if p < alpha:\n",
    "    print(\"P-Value is less than alpha:\")\n",
    "    print('Reject HO (for H1).' \\\n",
    "          ' Homes with more than two bathrooms have higher than average tax dollar count.')\n",
    "else:\n",
    "    print('Fail to reject H0. The average price of homes with more than two bathrooms is equal' \\\n",
    "          ' to the average price of homes with two or less bathrooms.')"
   ]
  },
  {
   "cell_type": "markdown",
   "metadata": {},
   "source": [
    "# Modeling\n",
    "---"
   ]
  },
  {
   "cell_type": "code",
   "execution_count": 12,
   "metadata": {},
   "outputs": [],
   "source": [
    "# create the Zillow DataFrame\n",
    "df = prepare_zillow_mvp()\n",
    "\n",
    "# Create model data frames for each feature set we will use for various models\n",
    "model_1_data = df.drop(columns='more_than_two_bath')\n",
    "model_2_data = df[['more_than_two_bath','taxvaluedollarcnt']]\n",
    "model_3_data = df[['calculatedfinishedsquarefeet', 'more_than_two_bath', 'taxvaluedollarcnt']]"
   ]
  },
  {
   "cell_type": "code",
   "execution_count": 13,
   "metadata": {},
   "outputs": [
    {
     "name": "stdout",
     "output_type": "stream",
     "text": [
      "Baseline Model\n",
      "------------------------\n",
      "Basline Model RMSE: 672494.82\n",
      "Basline R^2: 0.00%\n"
     ]
    }
   ],
   "source": [
    "# Split model 1 into X_train, y_train, X_validate, y_validate, X_test, y_test\n",
    "\n",
    "X_train, y_train, X_validate, y_validate, X_test, y_test = wrangle_data(model_1_data, 'taxvaluedollarcnt', modeling=True)\n",
    "\n",
    "df_model_evals = pd.DataFrame()\n",
    "\n",
    "df_model_evals['y'] = y_train\n",
    "df_model_evals['baseline_yhat'] = y_train.mean()\n",
    "\n",
    "rmse_poly = sqrt(mean_squared_error(df_model_evals.y, df_model_evals.baseline_yhat))\n",
    "rsquared_poly = explained_variance_score(y_train, df_model_evals.baseline_yhat)\n",
    "\n",
    "print(\"Baseline Model\")\n",
    "print('-' * 24)\n",
    "print(f\"Basline Model RMSE: {rmse_poly:.2f}\")\n",
    "print(f\"Basline R^2: {rsquared_poly:.2%}\")\n"
   ]
  },
  {
   "cell_type": "code",
   "execution_count": 14,
   "metadata": {},
   "outputs": [
    {
     "name": "stdout",
     "output_type": "stream",
     "text": [
      "Train Set\n",
      "Polynomial : degree=3\n",
      "------------------------\n",
      "Polynomial Model RMSE: 490288.02\n",
      "Polynomial R^2: 46.85%\n"
     ]
    }
   ],
   "source": [
    "# Create a polynomial linear regression\n",
    "poly = PolynomialFeatures(3)\n",
    "\n",
    "X_train_poly = poly.fit_transform(X_train)\n",
    "X_validate_poly = poly.transform(X_validate)\n",
    "X_test_poly = poly.transform(X_test)\n",
    "\n",
    "lm_poly = LinearRegression()\n",
    "lm_poly.fit(X_train_poly, y_train)\n",
    "\n",
    "yhat_poly_train = lm_poly.predict(X_train_poly)\n",
    "poly_train_residuals = yhat_poly_train - y_train\n",
    "\n",
    "df_model_evals['poly_1_yhat'] = lm_poly.predict(X_train_poly)\n",
    "\n",
    "rmse_poly = sqrt(mean_squared_error(y_train, yhat_poly_train))\n",
    "rsquared_poly = explained_variance_score(y_train, yhat_poly_train)\n",
    "\n",
    "print(\"Train Set\\nPolynomial : degree=3\")\n",
    "print('-' * 24)\n",
    "print(f\"Polynomial Model RMSE: {rmse_poly:.2f}\")\n",
    "print(f\"Polynomial R^2: {rsquared_poly:.2%}\")"
   ]
  },
  {
   "cell_type": "code",
   "execution_count": 15,
   "metadata": {},
   "outputs": [
    {
     "data": {
      "text/html": [
       "<div>\n",
       "<style scoped>\n",
       "    .dataframe tbody tr th:only-of-type {\n",
       "        vertical-align: middle;\n",
       "    }\n",
       "\n",
       "    .dataframe tbody tr th {\n",
       "        vertical-align: top;\n",
       "    }\n",
       "\n",
       "    .dataframe thead th {\n",
       "        text-align: right;\n",
       "    }\n",
       "</style>\n",
       "<table border=\"1\" class=\"dataframe\">\n",
       "  <thead>\n",
       "    <tr style=\"text-align: right;\">\n",
       "      <th></th>\n",
       "      <th>y</th>\n",
       "      <th>baseline_yhat</th>\n",
       "      <th>poly_1_yhat</th>\n",
       "    </tr>\n",
       "  </thead>\n",
       "  <tbody>\n",
       "    <tr>\n",
       "      <th>1711167</th>\n",
       "      <td>396962.0</td>\n",
       "      <td>460756.703083</td>\n",
       "      <td>263984.028220</td>\n",
       "    </tr>\n",
       "    <tr>\n",
       "      <th>2312067</th>\n",
       "      <td>630000.0</td>\n",
       "      <td>460756.703083</td>\n",
       "      <td>467517.903765</td>\n",
       "    </tr>\n",
       "    <tr>\n",
       "      <th>1020698</th>\n",
       "      <td>177856.0</td>\n",
       "      <td>460756.703083</td>\n",
       "      <td>251231.178129</td>\n",
       "    </tr>\n",
       "    <tr>\n",
       "      <th>2089824</th>\n",
       "      <td>524893.0</td>\n",
       "      <td>460756.703083</td>\n",
       "      <td>321888.391171</td>\n",
       "    </tr>\n",
       "    <tr>\n",
       "      <th>2218083</th>\n",
       "      <td>96286.0</td>\n",
       "      <td>460756.703083</td>\n",
       "      <td>441210.512722</td>\n",
       "    </tr>\n",
       "  </tbody>\n",
       "</table>\n",
       "</div>"
      ],
      "text/plain": [
       "                y  baseline_yhat    poly_1_yhat\n",
       "1711167  396962.0  460756.703083  263984.028220\n",
       "2312067  630000.0  460756.703083  467517.903765\n",
       "1020698  177856.0  460756.703083  251231.178129\n",
       "2089824  524893.0  460756.703083  321888.391171\n",
       "2218083   96286.0  460756.703083  441210.512722"
      ]
     },
     "execution_count": 15,
     "metadata": {},
     "output_type": "execute_result"
    }
   ],
   "source": [
    "# Look at the evals dataframe for peace of mind\n",
    "df_model_evals.head()"
   ]
  },
  {
   "cell_type": "markdown",
   "metadata": {},
   "source": [
    "# Summary\n",
    "---\n",
    "Working together we discovered for our MVP that the features that appear to drive home value as measure by taxvaluedollarcnt are bathroomcnt, bedroomcnt, calculatedfinishedsquarefeet. We discovered this by going through an iterative, manual process of feature selection using a Pearson's R correlation test to select the top two features of bathroomcnt and calculatedfinishedsquarefeet and using industry knowledge to also include calculatedfinishedsquarefeet and homes having more than 2 bathrooms. After testing a few models, the model that performed the best was our model1 data (bathroomcnt, bedroomcnt, calculatedfinishedsquarefeet, taxvaluedollarcnt) and using a Polynomial-features algorithm. The features in this model explain 47% of the variance.\n",
    "\n",
    "For our next iteration we will look at additional features while controlling for outliers."
   ]
  }
 ],
 "metadata": {
  "kernelspec": {
   "display_name": "Python 3",
   "language": "python",
   "name": "python3"
  },
  "language_info": {
   "codemirror_mode": {
    "name": "ipython",
    "version": 3
   },
   "file_extension": ".py",
   "mimetype": "text/x-python",
   "name": "python",
   "nbconvert_exporter": "python",
   "pygments_lexer": "ipython3",
   "version": "3.7.6"
  }
 },
 "nbformat": 4,
 "nbformat_minor": 4
}
